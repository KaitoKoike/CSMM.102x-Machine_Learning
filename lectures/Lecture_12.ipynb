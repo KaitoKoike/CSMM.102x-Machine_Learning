{
 "cells": [
  {
   "cell_type": "markdown",
   "metadata": {
    "collapsed": true
   },
   "source": [
    "# Decision Trees"
   ]
  },
  {
   "cell_type": "markdown",
   "metadata": {},
   "source": [
    "binary splitting\n",
    "\n",
    "of form $h(x) = \\mathbb{1}\\{x_j > t\\}$"
   ]
  },
  {
   "cell_type": "markdown",
   "metadata": {},
   "source": [
    "## BASIC DECISION TREE LEARNING ALGORITHM"
   ]
  },
  {
   "cell_type": "markdown",
   "metadata": {},
   "source": [
    "### Top down greeedy algorithm\n",
    "\n",
    "- Start with single leaf\n",
    "- find leaf to split to reduce uncertainty\n",
    "- find descision rule\n",
    "- stop\n",
    "\n",
    "### regression tree\n",
    "\n",
    "M regions, $R_1,...,R_M$\n",
    "\n",
    "prediction function:\n",
    "\n",
    "$f(x) = \\sum^M_{m=1}c_M\\mathbb{1}\\{x\\in R_m\\}$\n",
    "- $c_m$ for the region in which x falls into\n",
    "\n",
    "for fixed M, we need to find $c_m$ and $R_m$\n",
    "\n",
    "#### Objective function:\n",
    "\n",
    "minimize squared error\n",
    "\n",
    "$\\sum_i(y_i - f(x_i))^2$\n",
    "\n",
    "#### To find regions:\n",
    "\n",
    "- Define, with j as dimension and s as value on dimension j\n",
    "- $R^-(j, s) = \\{x\\in R|x_i(j)\\le s\\}$\n",
    "- $R^+(j, s) = \\{x\\in R|x_i(j)> s\\}$\n",
    "- this means define regions with threshhold s on dimension j $R^-$ and $R^+$\n",
    "- for each dimension j and each region, calculate s which reduces error the most\n",
    "\n",
    "#### To find output,$c_m$\n",
    "\n",
    "average of all $y_i$ for which $x_i \\in R_m$\n",
    "\n",
    "$c_m = \\frac{1}{n_m}\\sum^{n}_{i=1}y_i\\mathbb{1}\\{x_i \\in R_m\\}$"
   ]
  },
  {
   "cell_type": "markdown",
   "metadata": {},
   "source": [
    "### Classification tree\n",
    "\n",
    "Regression: Squared error, natural way to define splitting rule\n",
    "\n",
    "Classification: Need measure of how badly region classifies data and how much it can improve if it’s split\n",
    "\n",
    "K-class problem: For all $x \\in R_m$, let $p_k$ be empirical fraction of probability of class $K$\n",
    "\n",
    "#### To measure quality of $R_m$, use:\n",
    "\n",
    "1. classification error\n",
    "    - $1 - \\max_kp_k$\n",
    "2. Gini index\n",
    "    - $1 - \\sum_kp^2_k$\n",
    "3. Entropy\n",
    "    - $- \\sum_kp_k\\ln p_k$\n",
    "    \n",
    "let $u(R_m)$ be the gini index of $R_m$\n",
    "\n",
    "Gini improvement from split $R_m$ to $R^−_m$ & $R^+_m$:\n",
    "\n",
    "$u(R_m) - \\left(p_{R^−_m}\\cdot u(R^−_m) + p_{R^+_m}\\cdot u(R^+_m)\\right)$\n",
    "\n",
    "#### Choosing threshhold\n",
    "\n",
    "- for each dimension in Region most uncertain about\n",
    "- check split where $\\mathbb{1}\\{x_j > t\\}$\n",
    "- where j is each dimension and t is a value for our threshold\n",
    "- we pick the point t and dimension j where the gini improvment is greatest"
   ]
  },
  {
   "cell_type": "markdown",
   "metadata": {
    "collapsed": true
   },
   "source": [
    "### Pruning\n",
    "\n",
    "reducing uncertainty isnt the best way\n",
    "\n",
    "Pruning is gorwing the very large tree and then using an algorithm to trim it back\n",
    "\n",
    "### Overfitting\n",
    "\n",
    "- more nodes:\n",
    "- less training error\n",
    "- at first less testing error and then when too many, hhigher testing error due to overfitting"
   ]
  },
  {
   "cell_type": "markdown",
   "metadata": {},
   "source": [
    "## Bootstraping"
   ]
  },
  {
   "cell_type": "markdown",
   "metadata": {},
   "source": [
    "Technique for learning ensamble classifiers\n",
    "\n",
    "Resamples - samples from the empirical distribution of data\n",
    "\n",
    "- create many mediocre classifiers\n",
    "- bagging to improve performance\n",
    "\n",
    "#### Data:\n",
    "\n",
    "- $x_1,...,x_n$\n",
    "- estimation $\\hat{S}$ of stat $S$\n",
    "- eg $\\hat{S} = med(x_{1:n})$\n",
    "\n",
    "#### Bootstrap\n",
    "\n",
    "- Bootstrap samples $B_1,...,B_B$\n",
    "- pick $B_b$ from $n$ random samples from $x_1,...,x_n$\n",
    "- $x_i$ can appear multiple times in $B_b$\n",
    "\n",
    "$\\hat{S}_b = \\hat{S}(B_b)$\n",
    "- find estimator of each sample $B_b$\n",
    "\n",
    "$\\mu_B = \\frac{1}{B}\\sum^B_{b=1}\\hat{S}_b$\n",
    "- find mean of all predictions of each sample\n",
    "\n",
    "$\\sigma_B^2 = \\frac{1}{B}\\sum^B_{b=1}(\\hat{S}_b - \\mu_B)$\n",
    "- find variance of each prediction"
   ]
  },
  {
   "cell_type": "markdown",
   "metadata": {},
   "source": [
    "## Bagging and Random Forests"
   ]
  },
  {
   "cell_type": "markdown",
   "metadata": {},
   "source": [
    "Bagging = Bootstrap Aggregation\n",
    "\n",
    "Algorithm\n",
    "\n",
    "- pick bootstrapped data $B_b$ of size n\n",
    "- train classifier/regression model $f_b$ on data $B_b$\n",
    "- predict new data $f_{avg}(x_0) = \\frac{1}{B}\\sum^B_{b=1}f_b(x_0)$\n",
    "- for regression use average\n",
    "- for classification use majority vote\n",
    "\n",
    "### Random Forests\n",
    "\n",
    "Bagging doesnt work as well when the bootstrapped data is correleated\n",
    "\n",
    "Random forest on considers a subset of dimensions for each split\n",
    "\n",
    "- parameter m is the number of dimensions it can choose from the create a split along\n",
    "- $m < d$ and often $m \\approx \\sqrt{d}$"
   ]
  },
  {
   "cell_type": "code",
   "execution_count": null,
   "metadata": {
    "collapsed": true
   },
   "outputs": [],
   "source": []
  },
  {
   "cell_type": "code",
   "execution_count": null,
   "metadata": {
    "collapsed": true
   },
   "outputs": [],
   "source": []
  }
 ],
 "metadata": {
  "kernelspec": {
   "display_name": "Python 2",
   "language": "python",
   "name": "python2"
  },
  "language_info": {
   "codemirror_mode": {
    "name": "ipython",
    "version": 2
   },
   "file_extension": ".py",
   "mimetype": "text/x-python",
   "name": "python",
   "nbconvert_exporter": "python",
   "pygments_lexer": "ipython2",
   "version": "2.7.12"
  }
 },
 "nbformat": 4,
 "nbformat_minor": 2
}
