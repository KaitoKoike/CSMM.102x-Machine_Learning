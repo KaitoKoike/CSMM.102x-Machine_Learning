{
 "cells": [
  {
   "cell_type": "markdown",
   "metadata": {},
   "source": [
    "# Unsupervised Learning"
   ]
  },
  {
   "cell_type": "markdown",
   "metadata": {},
   "source": [
    "## K-Means Algorithm"
   ]
  },
  {
   "cell_type": "markdown",
   "metadata": {},
   "source": [
    "simplest and most fundemental clustering algorithm\n",
    "\n",
    "- $x_1,...,x_n$ where $x\\in \\mathbb{R}^d$\n",
    "- K classes\n",
    "- $\\pmb{c} = (c_1,..., c_n)$, $c_i \\in \\{1,..., K\\}$\n",
    "- $\\pmb{c}$ is the vector of the classes of each datapoint\n",
    "- $\\pmb{\\mu} = (\\mu_1,..., \\mu_K), \\mu_k \\in \\mathbb{R}^d$\n",
    "- $\\mu_k$ (centroid) defines a cluster\n",
    "\n",
    "### Objective function\n",
    "\n",
    "$\\pmb{\\mu}^∗, \\pmb{c}^∗ = \\arg \\min_{\\mu,c} \\sum^n_{i=1}\\sum^K_{k=1}\\mathbb{1}\\{c_i = k\\}||x_i - \\mu_k||^2$\n",
    "- minimize the difference between the data point and definition of respective cluster\n",
    "\n",
    "$L = \\sum^n_{i=1}\\sum^K_{k=1}\\mathbb{1}\\{c_i = k\\}||x_i - \\mu_k||^2$\n",
    "\n",
    "$L = \\sum^K_{k=1}\\sum^n_{i:c_i=k}||x_i - \\mu_k||^2$\n",
    "\n",
    "We can only derive an algorithm to find the local optimum\n",
    "\n",
    "- We cant set the derivative to 0\n",
    "- we wont use gradient descent as c isn't continuous\n",
    "\n",
    "### Coordinate descent\n",
    "\n"
   ]
  },
  {
   "cell_type": "markdown",
   "metadata": {
    "collapsed": true
   },
   "source": [
    "we split variables into 2 sets, $\\pmb{c}$ and $\\pmb{\\mu}$\n",
    "\n",
    "cant find best variables at the same time, but:\n",
    "- fixing 1 means we can optimize the other\n",
    "\n",
    "We:\n",
    "- define random $\\pmb{\\mu}$\n",
    "- iterate between next 2 steps\n",
    "- given $\\pmb{\\mu}$, find best $\\pmb{c}$\n",
    "- given $\\pmb{c}$, find best $\\pmb{\\mu}$\n",
    "\n",
    "### Updating $\\pmb{c}$\n",
    "\n",
    "Given $\\pmb{\\mu} = (\\mu_1,...,\\mu_K)$\n",
    "\n",
    "We rewrite the objective function to separate the 2 variables\n",
    "\n",
    "$= \\left(\\sum^K_{k=1}\\mathbb{1}\\{c_1 = k\\}||x_1 - \\mu_k||^2\\right) +...+ \\left(\\sum^K_{k=1}\\mathbb{1}\\{c_n = k\\}||x_n - \\mu_k||^2\\right)$\n",
    "- this means for each data point, what is the squared error to the class specified for it all summed together\n",
    "\n",
    "We minimize each term individually:\n",
    "\n",
    "$c_i = \\arg\\min_k ||x_i - \\mu_k||^2$\n",
    "- set $c_i$ to the class in which the error is least for datapoint $x_i$\n",
    "- we have to calculate all possible values and select the best one as c is not continuous\n",
    "\n",
    "### Updating $\\pmb{\\mu}$\n",
    "\n",
    "Given $\\pmb{c} = (c_1,...,c_n)$\n",
    "\n",
    "We rewrite the objective function to separate the 2 variables\n",
    "\n",
    "$= \\left(\\sum^n_{i=1}\\mathbb{1}\\{c_i = 1\\}||x_i - \\mu_1||^2\\right) +...+ \\left(\\sum^n_{i=1}\\mathbb{1}\\{c_i = K\\}||x_n - \\mu_K||^2\\right)$\n",
    "- this means for each cluster, sum the squared error for each datapoint assigned to this cluster and sum\n",
    "\n",
    "We minimize each term individually:\n",
    "\n",
    "$\\mu_k = \\arg\\min_{\\mu} \\sum^n_{i=1}\\mathbb{1}\\{c_i = k\\}||x_i - \\mu||^2$\n",
    "- set $\\mu_i$ to minimize the squared error between it and all datapoints $x_i$ assigned class k\n",
    "\n",
    "This is equivalent to the mean of all data assigned class k:\n",
    "\n",
    "$\\mu_k = \\frac{1}{n_k}\\sum^n_{i=1}x_i\\mathbb{1}\\{c_i = k\\}$\n",
    "\n",
    "let $n_k = \\sum^n_{i=1}\\mathbb{1}\\{c_i=k\\}$\n",
    "- number of datapoints assigned class k\n",
    "\n",
    "We stop when $\\pmb{c}$ isnt changing anymore\n",
    "\n",
    "K-Medoids is the same but using a different way to measure the distance"
   ]
  },
  {
   "cell_type": "markdown",
   "metadata": {},
   "source": []
  }
 ],
 "metadata": {
  "kernelspec": {
   "display_name": "Python 2",
   "language": "python",
   "name": "python2"
  },
  "language_info": {
   "codemirror_mode": {
    "name": "ipython",
    "version": 2
   },
   "file_extension": ".py",
   "mimetype": "text/x-python",
   "name": "python",
   "nbconvert_exporter": "python",
   "pygments_lexer": "ipython2",
   "version": "2.7.12"
  }
 },
 "nbformat": 4,
 "nbformat_minor": 2
}
