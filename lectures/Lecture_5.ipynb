{
 "cells": [
  {
   "cell_type": "markdown",
   "metadata": {},
   "source": [
    "# Bayes Linear Regression"
   ]
  },
  {
   "cell_type": "markdown",
   "metadata": {},
   "source": [
    "Likelihood: $y \\tilde{} N(Xw, \\sigma^2I)$\n",
    "\n",
    "- The likelihood model says how well the observed data agrees with w\n",
    "\n",
    "Prior: $w \\tilde{} N(0, \\lambda^{-1}I)$\n",
    "\n",
    "- prior beliefs/constraints on w\n",
    "\n",
    "we have defined a prior on unknown parameter and will try to learn its posterior."
   ]
  },
  {
   "cell_type": "markdown",
   "metadata": {
    "collapsed": true
   },
   "source": [
    "MAP and ML are point estimates\n",
    "\n",
    "Bayesian inference characters uncertainty about values of w \n",
    "\n",
    "w is a continuous-valued random variable in $\\mathbb{R}^d$\n",
    "\n",
    "posterior distribution of w given y, X is\n",
    "\n",
    "$p(w|y, X) = \\frac{p(y|w, X)p(w)}{\\int_{\\mathbb{R}_d}p(y|w,X)p(w)dw}$\n",
    "\n",
    "we update w with this transition\n",
    "\n",
    "$p(w|y, X) \\propto p(y|w, X)p(w)$\n",
    "\n",
    "$p(w|y, X) \\propto [e^{−\\frac{1}{2\\sigma^2}(y − Xw)^T(y − Xw)}][e^{− \\frac{\\lambda}{2}w^Tw}]$\n",
    "\n",
    "$p(w|y, X) \\propto e^{− \\frac{1}{2}\\{w^T(\\lambda I+\\sigma^{−2}X^TX)w−2σ^{−2}w^TX^Ty$\\}}$\n",
    "\n",
    "$w^T(\\lambda I+\\sigma^{−2}X^TX)w - \\frac{−2w^TX^Ty}{\\sigma^2}$\n",
    "\n",
    "- $w^T(\\lambda I+\\sigma^{−2}X^TX)w$ is a quadratic in w\n",
    "- $\\frac{−2w^TX^Ty}{\\sigma^2}$ is a linear in w\n",
    "\n",
    "this shows w is gaussian\n",
    "\n",
    "The Postiriior is:\n",
    "\n",
    "$p(w|y, X) = N(w|\\mu, \\Sigma)$\n",
    "\n",
    "$\\Sigma = (\\lambda I + \\sigma^{−2}X^TX)^{−1}$\n",
    "\n",
    "$\\mu = (\\lambdaσ^2I + X^TX)^{−1}X^Ty$\n",
    "\n",
    "- $\\mu$ = W MAP after a redefinition of the regularization parameter λ\n",
    "- $\\Sigma$ captures uncertainty\n"
   ]
  },
  {
   "cell_type": "markdown",
   "metadata": {},
   "source": [
    "## Predicting new data"
   ]
  },
  {
   "cell_type": "markdown",
   "metadata": {},
   "source": [
    "#### Predictive distribution:\n",
    "\n",
    "$p(y_0|x_0, y, X) = \\int_{\\mathbb{R}_d}p(y_0|x_0, w)p(w|y, X))dw$\n",
    "\n",
    "- $p(y_0|x_0, w)$ = likelihood\n",
    "- $p(w|y, X)$ = posterior\n",
    "\n",
    "$p(y_0|x_0, y, X) = N(y_0|\\mu_0, \\sigma^2_0)$\n",
    "\n",
    "$\\mu_0 = x^T_0\\mu$\n",
    "\n",
    "$\\sigma^2_0 = \\sigma^2 + x^T_0 \\Sigma x_0$\n",
    "\n",
    "The expected output is the map solution but the variance quantifies our confidence"
   ]
  },
  {
   "cell_type": "markdown",
   "metadata": {},
   "source": [
    "### Active Learning\n",
    "\n",
    "the posterior data becomes the prior for the next\n",
    "\n",
    "$p(w|y_0, x_0, y, X) \\propto p(y_0|w, x_0)p(w|y, X)$\n",
    "\n",
    "$p(w|y_0, x_0, y, X) = N(w|\\mu, \\Sigma)$\n",
    "\n",
    "$\\Sigma = (\\lambda I + \\sigma^{−2}(x_0x^T_0 +\\sum^n_{i=1}x_ix^T_i))^{−1}$\n",
    "\n",
    "$\\mu = (\\lambda\\sigma^2I + (x_0x^T_0 +\\sum^n_{i=1}x_ix^T_i)^{−1}(x_0y_0 +\\sum^n_{i=1}x_iy_i)$"
   ]
  },
  {
   "cell_type": "markdown",
   "metadata": {},
   "source": [
    "### Model Selection\n",
    "\n",
    "$p(w|y, X, \\lambda) = \\frac{p(y|w, X)p(w|\\lambda)}{p(y|X, \\lambda)}$\n",
    "\n",
    "$p(y|X, \\lambda)$ is the evidence\n",
    "\n",
    "the evidence is the likelihood with w integrated out to give us an idea of how good our model and parameters are\n",
    "\n",
    "$\\hat{\\lambda} = \\arg \\max_{\\lambda}\\ln p(y|X, \\lambda)$"
   ]
  },
  {
   "cell_type": "code",
   "execution_count": null,
   "metadata": {
    "collapsed": true
   },
   "outputs": [],
   "source": []
  }
 ],
 "metadata": {
  "kernelspec": {
   "display_name": "Python 2",
   "language": "python",
   "name": "python2"
  },
  "language_info": {
   "codemirror_mode": {
    "name": "ipython",
    "version": 2
   },
   "file_extension": ".py",
   "mimetype": "text/x-python",
   "name": "python",
   "nbconvert_exporter": "python",
   "pygments_lexer": "ipython2",
   "version": "2.7.12"
  }
 },
 "nbformat": 4,
 "nbformat_minor": 2
}
