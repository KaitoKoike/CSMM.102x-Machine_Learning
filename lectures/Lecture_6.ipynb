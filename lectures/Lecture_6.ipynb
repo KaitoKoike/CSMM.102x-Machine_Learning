{
 "cells": [
  {
   "cell_type": "code",
   "execution_count": 1,
   "metadata": {
    "collapsed": true
   },
   "outputs": [],
   "source": [
    "import numpy as np\n",
    "import matplotlib.pyplot as plt"
   ]
  },
  {
   "cell_type": "code",
   "execution_count": 32,
   "metadata": {},
   "outputs": [
    {
     "name": "stdout",
     "output_type": "stream",
     "text": [
      "[  0.   5.  10.  15.]\n",
      "[ 0.  1.  2.  3.]\n",
      "[  0.   4.   8.  12.]\n",
      "[   0.   16.   64.  144.]\n",
      "24.0\n",
      "14.9666295471\n"
     ]
    }
   ],
   "source": [
    "u = np.linspace(0, 15, 4)\n",
    "v = np.linspace(0, 3, 4)\n",
    "\n",
    "a = np.array([])\n",
    "a2 = np.array([])\n",
    "\n",
    "for i in range(4):\n",
    "    a = np.append(a, u[i] - v[i])\n",
    "    \n",
    "    a2 = np.append(a2, (u[i] - v[i])**2)\n",
    "    \n",
    "print u\n",
    "print v\n",
    "print a\n",
    "print a2\n",
    "\n",
    "print np.sum(a)\n",
    "print np.sqrt(np.sum(a2))"
   ]
  },
  {
   "cell_type": "code",
   "execution_count": null,
   "metadata": {
    "collapsed": true
   },
   "outputs": [],
   "source": []
  }
 ],
 "metadata": {
  "kernelspec": {
   "display_name": "Python 2",
   "language": "python",
   "name": "python2"
  },
  "language_info": {
   "codemirror_mode": {
    "name": "ipython",
    "version": 2
   },
   "file_extension": ".py",
   "mimetype": "text/x-python",
   "name": "python",
   "nbconvert_exporter": "python",
   "pygments_lexer": "ipython2",
   "version": "2.7.12"
  }
 },
 "nbformat": 4,
 "nbformat_minor": 2
}
