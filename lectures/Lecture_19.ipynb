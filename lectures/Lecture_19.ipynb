{
 "cells": [
  {
   "cell_type": "markdown",
   "metadata": {},
   "source": [
    "# Pincipal component analysis"
   ]
  },
  {
   "cell_type": "code",
   "execution_count": 2,
   "metadata": {
    "collapsed": true
   },
   "outputs": [],
   "source": [
    "import numpy as np\n",
    "import matplotlib.pyplot as plt"
   ]
  },
  {
   "cell_type": "markdown",
   "metadata": {},
   "source": [
    "this is reducing data to a lower dimensional space\n",
    "\n",
    "$q^tq = 1$\n",
    "\n",
    "$q^Tx_i =$ distance of datapoint after projecting it on line of vector q\n",
    "\n",
    "$(q^Tx_i)q =$ stretches vector to the datapoint\n",
    "- this is the prediction of the data\n",
    "- using the vector q which is constant for all data points\n",
    "- and the value which stretches the vector to as close as possible to the real data point \n",
    "\n",
    "We optimize q using minimize squared error\n",
    "\n",
    "$q = \\arg \\min_q \\sum_{i=1}^n||x_i - qq^Tx_i||^2$\n",
    "\n",
    "$= \\arg \\min_q \\sum_{i=1}^n x_i^Tx_i - q^T\\underbrace{(\\sum_{i=1}^nx_ix_i^T)}_{XX^T}q$\n",
    "\n",
    "$q =\\arg \\max_q q^T(XX^T)q$\n",
    "\n",
    "q = 1st eigenvector of $XX^T$\n",
    "\n",
    "$\\lambda = q^T(XX^T)q$ 1st eigenvalue"
   ]
  },
  {
   "cell_type": "code",
   "execution_count": 13,
   "metadata": {},
   "outputs": [
    {
     "name": "stderr",
     "output_type": "stream",
     "text": [
      "/usr/local/lib/python2.7/dist-packages/ipykernel_launcher.py:4: RuntimeWarning: divide by zero encountered in log\n",
      "  after removing the cwd from sys.path.\n"
     ]
    },
    {
     "data": {
      "image/png": "[encoded data removed]",
      "text/plain": [
       "<matplotlib.figure.Figure at 0x7f1a24bbb050>"
      ]
     },
     "metadata": {},
     "output_type": "display_data"
    }
   ],
   "source": [
    "x = np.linspace(0, 5, 201)\n",
    "\n",
    "def f(x):\n",
    "    return np.exp(-x)*\n",
    "\n",
    "y = f(x)\n",
    "\n",
    "fig, ax = plt.subplots(1, figsize=(8,4))\n",
    "\n",
    "ax.plot(x,y)\n",
    "\n",
    "ax.grid(True)\n",
    "plt.show()\n"
   ]
  },
  {
   "cell_type": "code",
   "execution_count": null,
   "metadata": {
    "collapsed": true
   },
   "outputs": [],
   "source": []
  },
  {
   "cell_type": "code",
   "execution_count": null,
   "metadata": {
    "collapsed": true
   },
   "outputs": [],
   "source": []
  }
 ],
 "metadata": {
  "kernelspec": {
   "display_name": "Python 2",
   "language": "python",
   "name": "python2"
  },
  "language_info": {
   "codemirror_mode": {
    "name": "ipython",
    "version": 2
   },
   "file_extension": ".py",
   "mimetype": "text/x-python",
   "name": "python",
   "nbconvert_exporter": "python",
   "pygments_lexer": "ipython2",
   "version": "2.7.12"
  }
 },
 "nbformat": 4,
 "nbformat_minor": 2
}
