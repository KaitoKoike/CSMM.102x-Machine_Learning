{
 "cells": [
  {
   "cell_type": "markdown",
   "metadata": {},
   "source": [
    "# Soft Clustering"
   ]
  },
  {
   "cell_type": "markdown",
   "metadata": {},
   "source": [
    "Hard clustering assigns each data point to 1 cluster\n",
    "\n",
    "Soft clustering gives the data point a probability or probability distribution for each cluster\n",
    "\n",
    "- This means soft clustering accounts or borderline cases\n",
    "- so it says its unsure about what cluster its in\n",
    "- This is a probabilistic version of K-means"
   ]
  },
  {
   "cell_type": "markdown",
   "metadata": {},
   "source": [
    "### Algorithm\n",
    "\n",
    "##### Objective function\n",
    "\n",
    "$L = \\sum^n_{i=1}\\sum^K_{k=1}\\phi_i(k)\\frac{||x_i-\\mu_k||^2}{\\beta}$\n",
    "- minimize over $\\phi_i$ and $\\mu_k$\n",
    "\n",
    "##### Conditions\n",
    "\n",
    "$\\phi_i(k) > 0$\n",
    "\n",
    "$\\sum^K_{k=1}\\phi_i(k) = 1$\n",
    "- $\\phi_i(k)$ is the weight for the data point i for cluster k\n",
    "\n",
    "$\\beta > 0$\n",
    "\n",
    "##### Updating\n",
    "\n",
    "$\\phi_i(k) = \\frac{exp\\left\\{-\\frac{||x_i - \\mu_k||^2}{\\beta}\\right\\}}{\\sum_jexp\\left\\{-\\frac{||x_i - \\mu_j||^2}{\\beta}\\right\\}}$\n",
    "\n",
    "- this means the smaller the difference, the greater the weight for cluster k\n",
    "- we divide by the sum so the weights (probabilities) for all cluster sum to 1\n",
    "\n",
    "$\\mu_k = \\frac{\\sum_ix_i\\phi_i(k)}{\\sum_i\\phi_i(k)}$\n",
    "\n",
    "- this is the mean for all data\n",
    "- we don't use data assigned to this cluster, but instead multiple each data point by its weight"
   ]
  },
  {
   "cell_type": "markdown",
   "metadata": {},
   "source": [
    "## Mixture Models"
   ]
  },
  {
   "cell_type": "markdown",
   "metadata": {},
   "source": [
    "This is where $\\phi_i$ is a probability distribution rather than a set of probabilities"
   ]
  },
  {
   "cell_type": "markdown",
   "metadata": {},
   "source": []
  },
  {
   "cell_type": "markdown",
   "metadata": {},
   "source": []
  },
  {
   "cell_type": "markdown",
   "metadata": {},
   "source": []
  },
  {
   "cell_type": "markdown",
   "metadata": {},
   "source": []
  },
  {
   "cell_type": "markdown",
   "metadata": {},
   "source": []
  },
  {
   "cell_type": "markdown",
   "metadata": {},
   "source": []
  },
  {
   "cell_type": "markdown",
   "metadata": {},
   "source": []
  },
  {
   "cell_type": "code",
   "execution_count": null,
   "metadata": {
    "collapsed": true
   },
   "outputs": [],
   "source": []
  }
 ],
 "metadata": {
  "kernelspec": {
   "display_name": "Python 2",
   "language": "python",
   "name": "python2"
  },
  "language_info": {
   "codemirror_mode": {
    "name": "ipython",
    "version": 2
   },
   "file_extension": ".py",
   "mimetype": "text/x-python",
   "name": "python",
   "nbconvert_exporter": "python",
   "pygments_lexer": "ipython2",
   "version": "2.7.12"
  }
 },
 "nbformat": 4,
 "nbformat_minor": 2
}
