{
 "cells": [
  {
   "cell_type": "markdown",
   "metadata": {},
   "source": [
    "# The EM Algorithm"
   ]
  },
  {
   "cell_type": "markdown",
   "metadata": {},
   "source": [
    "When trying to solve\n",
    "\n",
    "$\\theta_1 = \\arg \\max_{\\theta_1}\\sum_{i=1}^n \\ln p(x_i|\\theta_1)$\n",
    "\n",
    "but its tricky to optimize so we use this instead\n",
    "\n",
    "$\\sum_{i=1}^n \\ln p(x_i, \\theta_2|\\theta_1)$\n",
    "\n",
    "we assume this to be easier to work with"
   ]
  },
  {
   "cell_type": "markdown",
   "metadata": {},
   "source": [
    "### motivation\n",
    "\n",
    "$x_i \\sim^{iid} N(\\mu, \\Sigma)$\n",
    "- $x_i^0$ observed data\n",
    "- $x_1^m$ missing data\n",
    "\n",
    "$\\mu, \\Sigma = \\arg \\max_{\\mu, \\Sigma}\\sum_{i=1}^n\\ln p(x_i^o|\\mu, \\Sigma)$\n",
    "\n",
    "$\\mu, \\Sigma = \\arg \\max_{\\mu, \\Sigma}\\sum_{i=1}^n\\ln p(x_i^o, x_i^m|\\mu, \\Sigma)$\n",
    "\n",
    "### setup\n",
    "\n",
    "$p(x|\\theta_1) = \\int p(x, \\theta_2| \\theta_1) d\\theta_2$\n",
    "- this is because we're summing over all possible $\\theta_2$s and since its a probability it sums to 1"
   ]
  },
  {
   "cell_type": "markdown",
   "metadata": {},
   "source": [
    "### objective function\n",
    "\n",
    "$\\ln p(x|\\theta_1) = \\int q(\\theta_2) \\ln\\frac{p(x, \\theta_2| \\theta_1)}{q(\\theta_2)} d\\theta_2 +\\int q(\\theta_2) \\ln \\frac{p(\\theta_2|x, \\theta_1)}{q(\\theta_2)} d\\theta_2$\n",
    "- q is any probability distribution\n",
    "- we assume we know $p(\\theta_2|x, \\theta_1)$\n",
    "\n",
    "$\\ln p(x|\\theta_1) = \\underbrace{(\\int q(\\theta_2) \\ln\\frac{p(x, \\theta_2| \\theta_1)}{q(\\theta_2)} d\\theta_2}_{L} + \\underbrace{\\int q(\\theta_2) \\ln \\frac{p(\\theta_2|x, \\theta_1)}{q(\\theta_2)} d\\theta_2}_{Kullback-leiber- divergence}$\n",
    "- kl divergence $\\ge 0$\n",
    "- kl divergence = 0 when q = p"
   ]
  },
  {
   "cell_type": "markdown",
   "metadata": {},
   "source": [
    "### The Algorithm\n",
    "\n",
    "#### E step (iteration t)\n",
    "\n",
    "Set $q_t(\\theta_2) = p(\\theta_2|x, \\theta_1^t)$\n",
    "\n",
    "$L_t(x,\\theta_1) = \\int q_t(\\theta_2) \\ln p(x, \\theta_2| \\theta_1) d\\theta_2 - \\int q(\\theta_2) \\ln q(\\theta_2) d\\theta_2$\n",
    "- we forget the q in the fraction for the first term as its constant and doesnt change the next step\n",
    "- we can also ignore the 2nd term\n",
    "\n",
    "#### M step (iteration t)\n",
    "\n",
    "$\\theta_1^{(t+1)} = \\arg \\max_{\\theta_1} L(x,\\theta_1)$"
   ]
  },
  {
   "cell_type": "markdown",
   "metadata": {},
   "source": [
    "### Improvement\n",
    "\n"
   ]
  }
 ],
 "metadata": {
  "kernelspec": {
   "display_name": "Python 2",
   "language": "python",
   "name": "python2"
  },
  "language_info": {
   "codemirror_mode": {
    "name": "ipython",
    "version": 2
   },
   "file_extension": ".py",
   "mimetype": "text/x-python",
   "name": "python",
   "nbconvert_exporter": "python",
   "pygments_lexer": "ipython2",
   "version": "2.7.12"
  }
 },
 "nbformat": 4,
 "nbformat_minor": 2
}
