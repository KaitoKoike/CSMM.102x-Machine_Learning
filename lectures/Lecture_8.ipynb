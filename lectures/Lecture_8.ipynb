{
 "cells": [
  {
   "cell_type": "markdown",
   "metadata": {},
   "source": [
    "# Linear Classification"
   ]
  },
  {
   "cell_type": "markdown",
   "metadata": {
    "collapsed": true
   },
   "source": [
    "## Binary Classification"
   ]
  },
  {
   "cell_type": "markdown",
   "metadata": {},
   "source": [
    "Log odds:\n",
    "\n",
    "$\\ln\\frac{p(x|y=1)P(y=1)}{p(x|y=0)P(y=0)} > 0$\n",
    "\n",
    "- if +, predicts class 1\n",
    "- if -, predicts class 0\n",
    "- magnitude is measure of confidence"
   ]
  },
  {
   "cell_type": "markdown",
   "metadata": {},
   "source": [
    "### Gaussian with shared covariance\n",
    "\n",
    "$\\ln\\frac{P(x|y=1)P(y=1)}{P(x|y=0)P(y=0)} = \\ln \\frac{\\pi_1}{\\pi_0}-\\frac{1}{2}(\\mu_1 + \\mu_0)^T\\Sigma^{-1}(\\mu_1 - \\mu_0) + x^T Σ^{−1}(\\mu_1 - \\mu_0)$\n",
    "\n",
    "$w_0 = \\ln \\frac{\\pi_1}{\\pi_0}-\\frac{1}{2}(\\mu_1 + \\mu_0)^T\\Sigma^{-1}(\\mu_1 - \\mu_0)$ a constant\n",
    "\n",
    "$w = \\Sigma^{−1}(\\mu_1 - \\mu_0)$ a vector\n",
    "\n",
    "This is called linear discriminant analysis\n",
    "\n",
    "$f(x) = sign(x^Tw + w_0)$\n",
    "\n",
    "with $Y \\in \\{-1, +1\\}$\n",
    "\n",
    "- bayes classifier is an example of how to find the unknown variables\n",
    "- but setting w and w0 can be way too restrictive\n",
    "- this assumes single gaussian with shared covariance\n",
    "\n",
    "we assume linear seperability by and affine hyperplane\n",
    "\n",
    "w and w0 define an affine hyperplane"
   ]
  },
  {
   "cell_type": "markdown",
   "metadata": {},
   "source": [
    "### Gaussian with different covariance \n",
    "\n",
    "$\\ln\\frac{P(x|y=1)P(y=1)}{P(x|y=0)P(y=0)} =$ something complicated not involving x $+ x^T(\\Sigma^{-1}_1 \\mu_1 - \\Sigma^{-1}_0 \\mu_0) + x^T(\\Sigma^{-1}_0/2 - \\Sigma^{-1}_1/2)x$\n",
    "\n",
    "- constant = something complicated not involving x\n",
    "- linear in x = $x^T(\\Sigma^{-1}_1 \\mu_1 - \\Sigma^{-1}_0 \\mu_0)$\n",
    "- quadratic in x = $x^T(\\Sigma^{-1}_0/2 - \\Sigma^{-1}_1/2)x$\n",
    "\n",
    "called quadratic discriminant analysis\n",
    "\n",
    "- $f(x) = sign(x^TAx + x^Tb + c)$\n",
    "- this is linear in A, b and c\n",
    "- when $x \\in \\mathbb{R}^2$\n",
    "- $x \\gets (x_1, x_2, 2x_1x_2, x^2_1, x^2_2)$\n",
    "- we do the linear regression in $\\mathbb{R}^5$"
   ]
  },
  {
   "cell_type": "markdown",
   "metadata": {},
   "source": [
    "## Perceptron Algorithm\n",
    "\n",
    "x data has attached 1\n",
    "\n",
    "data is linearly seperable\n",
    "\n",
    "$f(x) = sign(x^Tw)$\n",
    "\n",
    "minimize:\n",
    "\n",
    "$L = -\\sum^n_{i=1}(y_i\\cdot x^T_iw)\\mathbb{1}\\{y_i \\not= sign(x^T_iw)\\}$\n",
    "\n",
    "this is the sum of wrong predictions\n",
    "\n",
    "- $y_i\\cdot x^T_iw > 0$ if $y_i = sign(x^T_iw)$\n",
    "- $y_i\\cdot x^T_iw < 0$ if $y_i \\not= sign(x^T_iw)$\n",
    "\n",
    "we cant analytically solve this\n",
    "\n",
    "$\\triangledown_wL = 0$ cant be solved\n",
    "\n",
    "but $\\triangledown_wL$ can be used to tell the direction in which L is increasing in w\n",
    "\n",
    "$w\\prime = w - \\eta\\triangledown_wL$\n",
    "- this will update w so that\n",
    "- $L(w\\prime) < L(w)$\n",
    "- called gradient decent\n",
    "- perceptron uses stochastic gradient decent\n",
    "\n",
    "### Stochastic gradient decent\n",
    "\n",
    "- for each iteration\n",
    "- picks one random $(x_i, y_i)$ data pair where $y_i \\not= sign(x^T_iw^{(t)})$\n",
    "- $w^{(t+1)} = w(t) + \\eta y_ix_i$\n",
    "-  if pair doesnt exist then weights are correct to classify training data corectly\n",
    "\n",
    "$L = -\\sum^n_{i=1}(y_i\\cdot x^T_iw)\\mathbb{1}\\{y_i \\not= sign(x^T_iw)\\}$\n",
    "- loss\n",
    "\n",
    "$\\triangledown_wL = -\\sum_{i∈M_t}y_ix_i$\n",
    "- loss derivative\n",
    "- if $M_t$ is the misclassifications at step t\n",
    "- $w\\prime = w + \\eta y_ix_i$"
   ]
  },
  {
   "cell_type": "code",
   "execution_count": null,
   "metadata": {
    "collapsed": true
   },
   "outputs": [],
   "source": []
  },
  {
   "cell_type": "code",
   "execution_count": null,
   "metadata": {
    "collapsed": true
   },
   "outputs": [],
   "source": []
  }
 ],
 "metadata": {
  "kernelspec": {
   "display_name": "Python 2",
   "language": "python",
   "name": "python2"
  },
  "language_info": {
   "codemirror_mode": {
    "name": "ipython",
    "version": 2
   },
   "file_extension": ".py",
   "mimetype": "text/x-python",
   "name": "python",
   "nbconvert_exporter": "python",
   "pygments_lexer": "ipython2",
   "version": "2.7.12"
  }
 },
 "nbformat": 4,
 "nbformat_minor": 2
}
