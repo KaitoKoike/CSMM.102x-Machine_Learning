{
 "cells": [
  {
   "cell_type": "markdown",
   "metadata": {},
   "source": [
    "# Topic modelling"
   ]
  },
  {
   "cell_type": "code",
   "execution_count": 1,
   "metadata": {
    "collapsed": true
   },
   "outputs": [],
   "source": [
    "import numpy as np\n",
    "import matplotlib.pyplot as plt"
   ]
  },
  {
   "cell_type": "markdown",
   "metadata": {},
   "source": [
    "# Topic modeling"
   ]
  },
  {
   "cell_type": "markdown",
   "metadata": {
    "collapsed": true
   },
   "source": [
    "- distribution on words for each topic\n",
    "- distribution on topics for each document\n",
    "- assigns each works in document to topic\n",
    "\n",
    "## Latent Dirichlet Allocation\n",
    "\n",
    "$\\beta_k$ = distribution on words for topic k\n",
    "- every distribution contains all words and assign a probability to it\n",
    "\n",
    "$\\theta_d$ = distribution on topics for document d\n",
    "- every document contains all topics and assign a probability to it\n",
    "\n",
    "### Generative process\n",
    "\n",
    "#### Generate each word distribution (topic)\n",
    "\n",
    "$\\beta_k \\sim Dirichlet(\\gamma)$\n",
    "- for $k = 1,...,K$\n",
    "\n",
    "#### Generate topic distribution for each document\n",
    "\n",
    "$\\theta_d \\sim Dirichlet(\\alpha)$\n",
    "- for $d = 1,...,D$\n",
    "\n",
    "#### for nth word in dth document\n",
    "\n",
    "$c_{dn} \\sim Discrete(\\theta_d)$\n",
    "- this is the topic allocation to this specific word\n",
    "\n",
    "$x_{cn} \\sim Discrete(\\beta_{c_{dn}})$\n",
    "- this is the word generated from the topic distribtuion $\\beta_{c_{dn}}$"
   ]
  },
  {
   "cell_type": "markdown",
   "metadata": {
    "collapsed": true
   },
   "source": [
    "## Dirichlet distribution\n",
    "\n",
    "- continous distribution on vectors\n",
    "- with $\\beta_k$ a probability vector\n",
    "- with $\\gamma$ a positive parameter vector\n",
    "- parameter V is size of $\\beta_k$ and $\\gamma$ so its discrete in a way\n",
    "\n",
    "$p(\\beta_k|\\gamma) = \\frac{\\Gamma(\\sum_v\\gamma_v}{\\prod_{v=1}^V\\Gamma(\\gamma_v)}\\prod_{v=1}^V{\\beta^{\\gamma_v}_{k,v}}^{-1}$\n",
    "- with $\\gamma$ constant\n",
    "- as $\\gamma \\to \\infty$, the distribution becomes uniform\n",
    "- as $\\gamma \\to 0$, the distribution puts all mass on 1 value\n"
   ]
  },
  {
   "cell_type": "markdown",
   "metadata": {
    "collapsed": true
   },
   "source": [
    "### Link to matrix factorization\n",
    "\n",
    "$P(x_{dn}=i|\\beta, \\theta_d) = \\sum_{k=1}^KP(x_{dn}=i, c_{dn}=k |\\beta, \\theta_d)$\n",
    "\n",
    "$= \\sum_{k=1}^K\\underbrace{P(x_{dn}=i|\\beta, c_{dn}=k)}_{\\beta_{ki}}\\underbrace{P(c_{dn}=k|\\theta_d)}_{\\theta_{dk}}$\n",
    "\n",
    "$= \\sum_{k=1}^K\\beta_{ki}\\theta_{dk}$\n",
    "\n",
    "$= (B\\Theta)_{id}$\n",
    "- we can see this a 2 non-negative matrices being multiplied"
   ]
  },
  {
   "cell_type": "markdown",
   "metadata": {},
   "source": [
    "## Matrix Factorization\n",
    "\n",
    "Data matrix X\n",
    "\n",
    "$X_{ij} \\ge 0$\n",
    "\n",
    "factorised matrices W and H\n",
    "\n",
    "$W_{ik} \\ge 0$\n",
    "\n",
    "$H_{kj} \\ge 0$\n",
    "\n",
    "$X_{ij} \\approx \\sum_{k} W_{ik}H_{kj}$\n",
    "\n",
    "#### Data\n",
    "\n",
    "- we could use a word on each row and frequency of word for document on each column\n",
    "- each row is a feature\n",
    "- each coloumn is a scenario\n",
    "- eg. each row is a pixel in an image, and coloumn is a different image\n",
    "\n"
   ]
  },
  {
   "cell_type": "markdown",
   "metadata": {},
   "source": [
    "## Objective functions\n",
    "\n",
    "#### Squared error\n",
    "\n",
    "$||X - WH||^2 = \\sum_i\\sum_j(X_{ij}-(WH)_{ij})^2$\n",
    "\n",
    "#### Divergence objective\n",
    "\n",
    "$D(X||WH) = -\\sum_i\\sum_j[X_{ij}\\ln(WH)_{ij} - (WH)_{ij}]$"
   ]
  },
  {
   "cell_type": "markdown",
   "metadata": {},
   "source": [
    "## Multiplicative updates\n",
    "\n",
    "### Squared error\n",
    "\n",
    "$\\min \\sum_{ij}(X_{ij}-(WH)_{ij})^2$\n",
    "\n",
    "Randomly initialize W and H\n",
    "\n",
    "$H_{kj} \\gets H_{kj}\\frac{(W^TX)_{kj}}{(W^TWH)_{kj}}$\n",
    "- for all H elements\n",
    "\n",
    "$W_{ik} \\gets W_{ik}\\frac{(XH^T)_{ik}}{(WHH^T)_{ik}}$\n",
    "- for all W elements\n",
    "\n",
    "until change in squared error is small\n",
    "\n",
    "### Divergence objective\n",
    "\n",
    "$\\min \\sum_{ij}[X_{ij}\\ln\\frac{1}{(WH)_{ij}} + (WH)_{ij}]$\n",
    "\n",
    "Randomly initialize W and H\n",
    "\n",
    "$H_{kj} \\gets H_{kj}\\frac{\\sum_iW_{ik}X_{ij}/(WH)_{ij}}{\\sum_iW_{ik}}$\n",
    "- for all H elements\n",
    "\n",
    "$W_{ik} \\gets W_{ik}\\frac{\\sum_iH_{kj}X_{ij}/(WH)_{ij}}{\\sum_iH_{kj}}$\n",
    "- for all W elements\n",
    "\n",
    "until change in $D(X||WH)$ is small\n",
    "\n"
   ]
  },
  {
   "cell_type": "code",
   "execution_count": 2,
   "metadata": {},
   "outputs": [
    {
     "name": "stderr",
     "output_type": "stream",
     "text": [
      "/usr/local/lib/python2.7/dist-packages/ipykernel_launcher.py:4: RuntimeWarning: divide by zero encountered in log\n",
      "  after removing the cwd from sys.path.\n",
      "/usr/local/lib/python2.7/dist-packages/ipykernel_launcher.py:4: RuntimeWarning: invalid value encountered in log\n",
      "  after removing the cwd from sys.path.\n"
     ]
    },
    {
     "data": {
      "image/png": "[encoded data removed]",
      "text/plain": [
       "<matplotlib.figure.Figure at 0x7fca9fb20810>"
      ]
     },
     "metadata": {},
     "output_type": "display_data"
    }
   ],
   "source": [
    "x = np.linspace(-10, 10, 201)\n",
    "\n",
    "def f(x):\n",
    "    return -(1*np.log(x)-x)\n",
    "\n",
    "y = f(x)\n",
    "\n",
    "fig, ax = plt.subplots(1, figsize=(8,4))\n",
    "\n",
    "ax.plot(x,y)\n",
    "\n",
    "ax.grid(True)\n",
    "plt.show()\n"
   ]
  },
  {
   "cell_type": "code",
   "execution_count": null,
   "metadata": {
    "collapsed": true
   },
   "outputs": [],
   "source": []
  }
 ],
 "metadata": {
  "kernelspec": {
   "display_name": "Python 2",
   "language": "python",
   "name": "python2"
  },
  "language_info": {
   "codemirror_mode": {
    "name": "ipython",
    "version": 2
   },
   "file_extension": ".py",
   "mimetype": "text/x-python",
   "name": "python",
   "nbconvert_exporter": "python",
   "pygments_lexer": "ipython2",
   "version": "2.7.12"
  }
 },
 "nbformat": 4,
 "nbformat_minor": 2
}
