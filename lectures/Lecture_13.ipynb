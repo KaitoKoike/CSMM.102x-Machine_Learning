{
 "cells": [
  {
   "cell_type": "markdown",
   "metadata": {},
   "source": [
    "# Boosting"
   ]
  },
  {
   "cell_type": "markdown",
   "metadata": {},
   "source": [
    "Weighted Sampling"
   ]
  },
  {
   "cell_type": "markdown",
   "metadata": {},
   "source": [
    "## ADABOOST ALGORITHM (SAMPLING VERSION)"
   ]
  },
  {
   "cell_type": "markdown",
   "metadata": {},
   "source": [
    "Boosting a binary classifier\n",
    "\n",
    "#### Data:\n",
    "\n",
    "- $(x_1, y_1),...,(x_n,y_n)$\n",
    "- $x\\in \\chi$\n",
    "- $y \\in \\{-1, +1\\}$\n",
    "- $w_1(i) = \\frac{1}{n}$\n",
    "- w is the weight vector for the data\n",
    "- w(i) for iteration 1 corresponding to data x(i) is uniform so all data is considered evenly\n",
    "\n",
    "#### Algorithm\n",
    "\n",
    "- for $t$ in $1,...,T$\n",
    "- sample a bootstrap dataset $B_t$ of size n but each datapoint has probability $w_t(i)$ corresponding to the data $x_i$\n",
    "- learn classifier $f_t$ given dataset $B_t$\n",
    "- set loss $\\epsilon_t = \\sum^n_{i=1}w_t(i)\\mathbb{1}\\{y_i \\not= f_t(x_i)\\}$, this is the sum of w's misclassified data\n",
    "- set $\\alpha_t = \\frac{1}{2}\\ln\\left(\\frac{1-\\epsilon_t}{\\epsilon_t}\\right)$\n",
    "- set $\\hat{w}_{t+1}(i) = w_t(i)e^{-\\alpha_ty_if_t(x_i)}$\n",
    "- this adapts $w$ to a more desireble value\n",
    "- set $w_{t+1}(i) = \\frac{\\hat{w}_{t+1}(i)}{\\sum_j\\hat{w}_{t+1}(j)}$\n",
    "- this turns $\\hat{w}$ into a probability vector\n",
    "\n",
    "#### Prediction\n",
    "\n",
    "$f_{boost}(x_0) = sign\\left(\\sum^T_{t=1}\\alpha_tf_t(x_0)\\right)$\n",
    "- same as bagging but with each vote is weighted by $\\alpha$\n",
    "\n",
    "can be rewritten as:\n",
    "\n",
    "$f_{boost}(x_0) = sign(\\phi(x_0)^T\\pmb{\\alpha})$"
   ]
  },
  {
   "cell_type": "markdown",
   "metadata": {},
   "source": [
    "if:\n",
    "- $f_t$ given $B_t$ is good but $y_i \\not= f_t(x_i)$, $w_t(i)$ increases\n",
    "- $f_t$ given $B_t$ is good and $y_i = f_t(x_i)$, $w_t(i)$ decreases\n",
    "\n",
    "- $f_t$ given $B_t$ is bad and $y_i \\not= f_t(x_i)$, $w_t(i)$ decreases\n",
    "- $f_t$ given $B_t$ is bad but $y_i = f_t(x_i)$, $w_t(i)$ increases"
   ]
  },
  {
   "cell_type": "markdown",
   "metadata": {},
   "source": []
  }
 ],
 "metadata": {
  "kernelspec": {
   "display_name": "Python 2",
   "language": "python",
   "name": "python2"
  },
  "language_info": {
   "codemirror_mode": {
    "name": "ipython",
    "version": 2
   },
   "file_extension": ".py",
   "mimetype": "text/x-python",
   "name": "python",
   "nbconvert_exporter": "python",
   "pygments_lexer": "ipython2",
   "version": "2.7.12"
  }
 },
 "nbformat": 4,
 "nbformat_minor": 2
}
