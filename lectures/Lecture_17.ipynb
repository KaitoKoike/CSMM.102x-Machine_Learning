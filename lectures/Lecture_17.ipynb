{
 "cells": [
  {
   "cell_type": "markdown",
   "metadata": {},
   "source": [
    "# Matrix Factorisation"
   ]
  },
  {
   "cell_type": "markdown",
   "metadata": {},
   "source": [
    "For matrix M, with $N_1$ rows of users and $N_2$ columns of objects\n",
    "\n",
    "$M_{i,j}$ gives us the rating for an object j by user i\n",
    "\n",
    "There will be many missing values, we want to fill these in\n",
    "\n"
   ]
  },
  {
   "cell_type": "markdown",
   "metadata": {},
   "source": [
    "## Singular value decomposition\n",
    "\n",
    "$M(n\\times d) = U(n\\times r)\\cdot S(r\\times r)\\cdot V(r\\times d)^T$\n",
    "\n",
    "$M = USV^T$\n",
    "\n",
    "$U^TU = I$\n",
    "\n",
    "$V^TV = I$\n",
    "\n",
    "S is a diagonal matrix with $S_{ii} \\ge 0$\n",
    "\n",
    "$r = rank(M)$\n",
    "- when r is small, M haw fewer degrees of freedom"
   ]
  },
  {
   "cell_type": "markdown",
   "metadata": {
    "collapsed": true
   },
   "source": [
    "## Probabilistic Matric Factorisation\n",
    "\n",
    "$\\Omega = \\{i,j:M_{ij} \\not= 0\\}$\n",
    "\n",
    "$\\Omega_{u_i} =$ objects rated by user i\n",
    "\n",
    "$\\Omega_{v_i} =$ users who rated object j\n",
    "\n",
    "### Locations\n",
    "\n",
    "$u_i \\sim N(0, \\lambda^{-1}I)$\n",
    "- for each user, there is a 0 mean gaussian\n",
    "\n",
    "$v_j \\sim N(0, \\lambda^{-1}I)$\n",
    "- for each object, there is a 0 mean gaussian\n",
    "\n",
    "$M_{ij} \\sim N(u_i^Tv_j,\\sigma^2)$\n",
    "- for user ratings, a gaussian doest work but its easy to work with\n",
    "\n",
    "### Inference\n",
    "\n",
    "$p(M_o,U,V) = \\left[\\prod_{i,j\\in\\Omega}p(M_{ij}|u_i,v_j)\\right] \\times \\left[\\prod_{i=1}^{N_1}p(u_i)\\right]\\left[\\prod_{j=1}^{N_2}p(v_j)\\right]$\n",
    "\n",
    "\n",
    "$U_{MAP}, V_{MAP} = \\arg \\max_{U,V} \\sum_{i,j\\in\\Omega}\\ln p(M_{ij}|u_i,v_j) + \\sum_{i=1}^{N_1}\\ln p(u_i) + \\sum_{j=1}^{N_2}\\ln p(v_j)$\n",
    "\n",
    "We want to maximize this:\n",
    "\n",
    "$L = -\\sum_{i,j\\in\\Omega}\\frac{1}{2\\sigma^2}||M_{ij} - u_i^Tv_j||^2 - \\sum_{i=1}^{N_1}\\frac{\\lambda}{2}||u_i||^2 - \\sum_{j=1}^{N_2}\\frac{\\lambda}{2}||v_j||^2$\n",
    "\n",
    "We then take the derivatives and set to 0:\n",
    "\n",
    "$\\triangledown_{u_i}L = -\\sum_{i,j\\in\\Omega}\\frac{1}{\\sigma^2}(M_{ij} - u_i^Tv_j)v_j - \\lambda u_i = 0$\n",
    "\n",
    "$\\triangledown_{v_j}L = -\\sum_{i,j\\in\\Omega}\\frac{1}{\\sigma^2}(M_{ij} - v_j^Tu_i)u_i - \\lambda v_j = 0$\n",
    "\n",
    "We use coordinate ascent and set these values each iteration\n",
    "\n",
    "$u_i = \\left(\\lambda\\sigma^2I + \\sum_{i,j\\in\\Omega}v_jv_j^T\\right)^{-1}\\left(\\sum_{i,j\\in\\Omega}M_{ij}v_j\\right)$\n",
    "\n",
    "$v_j = \\left(\\lambda\\sigma^2I + \\sum_{i,j\\in\\Omega}u_iu_i^T\\right)^{-1}\\left(\\sum_{i,j\\in\\Omega}M_{ij}u_i\\right)$\n"
   ]
  },
  {
   "cell_type": "code",
   "execution_count": null,
   "metadata": {
    "collapsed": true
   },
   "outputs": [],
   "source": []
  }
 ],
 "metadata": {
  "kernelspec": {
   "display_name": "Python 2",
   "language": "python",
   "name": "python2"
  },
  "language_info": {
   "codemirror_mode": {
    "name": "ipython",
    "version": 2
   },
   "file_extension": ".py",
   "mimetype": "text/x-python",
   "name": "python",
   "nbconvert_exporter": "python",
   "pygments_lexer": "ipython2",
   "version": "2.7.12"
  }
 },
 "nbformat": 4,
 "nbformat_minor": 2
}
