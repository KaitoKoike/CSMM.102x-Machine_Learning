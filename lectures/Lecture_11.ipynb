{
 "cells": [
  {
   "cell_type": "markdown",
   "metadata": {},
   "source": [
    "# MAXIMUM MARGIN CLASSIFIERS"
   ]
  },
  {
   "cell_type": "markdown",
   "metadata": {},
   "source": [
    "choose hyperplane in which the distance between the closest point in each class is maximized\n",
    "\n",
    "convex hull is the smallest convex set which contains all points of class\n",
    "\n",
    "a convex hull is defined by all possible weighted averages of points in a set\n",
    "\n",
    "$x_0 = \\sum^n_{i=1}\\alpha_ix_i$\n",
    "\n",
    "$\\alpha_i \\ge 0$\n",
    "\n",
    "$\\sum^n_{i=1}\\alpha_i = 1$"
   ]
  },
  {
   "cell_type": "markdown",
   "metadata": {},
   "source": [
    "##### Margin: The margin of a classifying hyperplane H is the shortest distance between the plane and any point in either set (equivalently, the convex hull)"
   ]
  },
  {
   "cell_type": "markdown",
   "metadata": {},
   "source": [
    "## Support Vector Machines\n",
    "\n",
    "$\\min_{w,w_0} \\frac{1}{2}||w||^2$\n",
    "\n",
    "subject to $y_i(x^T_iw + w_0) \\ge 1$ for $i = 1, ..., n$\n",
    "\n",
    "The Hyperplane is perpendicular on the mid point between the shortest possible line connecting the convex hulls\n",
    "\n",
    "We use the probability vectors $\\alpha$ to minimize:\n",
    "\n",
    "$\\left|\\left|\\left(\\Sigma_{x_i\\in S_1}\\alpha_{1i}x_i\\right)-\\left(\\sum_{x_i\\in S_0}\\alpha_{0i}x_i\\right)\\right|\\right|2$"
   ]
  },
  {
   "cell_type": "markdown",
   "metadata": {},
   "source": [
    "#### Lagrange multipliers\n",
    "\n",
    "$L = \\frac{1}{2}||w||^2 - \\sum^n_{i=1}\\alpha_i(y_i(x^T_iw + w_0) - 1)$\n",
    "\n",
    "$L = \\frac{1}{2}||w||^2 - \\sum^n_{i=1}\\alpha_iy_i(x^T_iw + w_0) + \\sum^n_{i=1}\\alpha_i$\n",
    "\n",
    "#### Setting up Dual Problem\n",
    "\n",
    "$\\triangledown_wL = w - \\sum^n_{i=1}\\alpha_iy_ix_i = 0$\n",
    "\n",
    "$w = \\sum^n_{i=1}\\alpha_iy_ix_i$\n",
    "\n",
    "$\\frac{\\partial L}{\\partial w_0} = −\\sum^n_{i=1}\\alpha_iy_i = 0$\n",
    "\n",
    "$\\sum^n_{i=1}\\alpha_iy_i = 0$\n",
    "\n",
    "#### Dual Problem\n",
    "\n",
    "- substituting in previous equalities\n",
    "\n",
    "$L = \\sum^n_{i=1}\\alpha_i - \\frac{1}{2}\\sum^n_{i=1}\\sum^n_{j=1}\\alpha_i\\alpha_jy_iy_j(x^T_ix_j)$\n",
    "- subject to $\\sum^n_{i=1}\\alpha_iy_i = 0$\n",
    "- $w_0$ dissappears because $\\sum^n_{i=1}\\alpha_iy_i = 0$ and $0 \\cdot w_0$\n",
    "\n",
    "We now maximize over $\\alpha$ using an algorithm\n",
    "\n",
    "#### Solving $w$ and $w_0$\n",
    "\n",
    "$w = \\sum^n_{i=1}\\alpha_iy_ix_i$\n",
    "- substitute $\\alpha$ in\n",
    "\n",
    "$\\alpha_i(y_i(x^T_iw + w_0) - 1) = 0$ for all i\n",
    "- pick i where $\\alpha > 0$ and $y_i(x^T_iw + w_0) - 1 = 0$\n",
    "- solve for $w_0$\n",
    "\n",
    "#### Dual Problem\n",
    "\n",
    "$C = \\sum_{i\\in S_1}\\alpha_i = \\sum_{j\\in S_0}\\alpha_j$\n",
    "\n",
    "$\\sum^n_{i=1}\\sum^n_{j=1}\\alpha_i\\alpha_jy_iy_j(x^T_ix_j) = ||\\sum^n_{i=1}\\alpha_iy_ix_i||^2$\n",
    "\n",
    "$= ||\\sum^n_{i\\in S_1}\\alpha_ix_i - \\sum^n_{j\\in S_0}\\alpha_jx_j||^2$\n",
    "\n",
    "$= C^2||\\sum^n_{i\\in S_1}\\frac{\\alpha_i}{C}x_i - \\sum^n_{j\\in S_0}\\frac{\\alpha_j}{C}x_j||^2$\n",
    "\n",
    "Changing the notation then to this:\n",
    "\n",
    "$L = 2C - \\frac{1}{2}C^2||\\sum^n_{i\\in S_1}\\frac{\\alpha_i}{C}x_i - \\sum^n_{j\\in S_0}\\frac{\\alpha_j}{C}x_j||^2$\n",
    "\n",
    "and to maximize this, we minimise:\n",
    "\n",
    "$||\\sum^n_{i\\in S_1}\\frac{\\alpha_i}{C}x_i - \\sum^n_{j\\in S_0}\\frac{\\alpha_j}{C}x_j||^2$\n",
    "- these are points in each of our convex hulls\n",
    "- this means its trying to find the closest point in each convex hull\n",
    "\n",
    "$ w = \\sum^n_{i=1}\\alpha_iy_ix_i = C\\left(\\sum^n_{i\\in S_1}\\frac{\\alpha_i}{C}x_i - \\sum^n_{j\\in S_0}\\frac{\\alpha_j}{C}x_j\\right)$"
   ]
  },
  {
   "cell_type": "markdown",
   "metadata": {
    "collapsed": true
   },
   "source": [
    "## Soft Margin SVM"
   ]
  },
  {
   "cell_type": "markdown",
   "metadata": {},
   "source": [
    "this allows some data to be misclasified but at a cost\n",
    "\n",
    "$\\min_{w,w_0,\\xi_1,...,\\xi_n} \\frac{1}{2}||w||^2 + \\lambda\\sum^n_{i=1}\\xi_i$\n",
    "\n",
    "- subject to $y_i(x^T_iw + w_0) \\ge 1 - \\xi_i$ for $i = 1, ..., n$\n",
    "- $\\xi \\ge 0$\n",
    "- if $\\lambda$ is small we allow more misclassification\n",
    "- if $\\lambda$ is big we dont allow misclassification and will converge to the original svm\n",
    "\n",
    "### Dual Problem\n",
    "\n",
    "Maximize over each $(\\alpha_i, \\mu_i)$ and minimize over $w,w_0,\\xi_1,...,\\xi_n$\n",
    "\n",
    "#### Lagrange multipliers\n",
    "\n",
    "$L = \\frac{1}{2}||w||^2 + \\lambda\\sum^n_{i=1}\\xi_i - \\sum^n_{i=1}\\alpha_i(y_i(x^T_iw + w_0) - 1 + \\xi_i) - \\sum^n_{i=1}\\mu_i\\xi_i$\n",
    "\n",
    "- subject to $\\alpha_i \\ge 0$, $\\mu_i \\ge 0$\n",
    "- $y_i(\\phi(x_i)^Tw + w_0) - 1 + \\xi_i \\ge 0$\n",
    "\n",
    "#### Setting up Dual Problem\n",
    "\n",
    "$\\triangledown_wL = w - \\sum^n_{i=1}\\alpha_iy_ix_i = 0$\n",
    "\n",
    "$w = \\sum^n_{i=1}\\alpha_iy_ix_i$\n",
    "\n",
    "$\\frac{\\partial L}{\\partial w_0} = −\\sum^n_{i=1}\\alpha_iy_i = 0$\n",
    "\n",
    "$\\sum^n_{i=1}\\alpha_iy_i = 0$\n",
    "\n",
    "$\\lambda - \\alpha_i - \\mu_i = 0$\n",
    "\n",
    "#### Dual Problem\n",
    "\n",
    "- substituting in previous equalities\n",
    "\n",
    "$L = \\sum^n_{i=1}\\alpha_i - \\frac{1}{2}\\sum^n_{i=1}\\sum^n_{j=1}\\alpha_i\\alpha_jy_iy_j\\phi(x^T_i)\\phi(x_j)$\n",
    "- given $\\mu_i = \\lambda - \\alpha_i$\n",
    "- subject to $\\sum^n_{i=1}\\alpha_iy_i = 0$\n",
    "- $0 \\le \\alpha_i \\le \\lambda$\n",
    "\n",
    "We now maximize over $\\alpha$ using an algorithm\n",
    "\n",
    "$w = \\sum^n_{i=1}\\alpha_iy_i\\phi(x_i)$, \n",
    "\n",
    "$y_0 = sign(\\sum^n_{i=1}\\alpha_iy_i\\phi(x_0)^T\\phi(x_i) + w_0)= sign(\\sum^n_{i=1}\\alpha_iy_iK(x_0, x_i) + w_0)$"
   ]
  },
  {
   "cell_type": "code",
   "execution_count": null,
   "metadata": {
    "collapsed": true
   },
   "outputs": [],
   "source": []
  }
 ],
 "metadata": {
  "kernelspec": {
   "display_name": "Python 2",
   "language": "python",
   "name": "python2"
  },
  "language_info": {
   "codemirror_mode": {
    "name": "ipython",
    "version": 2
   },
   "file_extension": ".py",
   "mimetype": "text/x-python",
   "name": "python",
   "nbconvert_exporter": "python",
   "pygments_lexer": "ipython2",
   "version": "2.7.12"
  }
 },
 "nbformat": 4,
 "nbformat_minor": 2
}
