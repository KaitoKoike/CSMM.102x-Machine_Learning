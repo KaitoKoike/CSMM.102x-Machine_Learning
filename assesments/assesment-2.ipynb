{
 "cells": [
  {
   "cell_type": "code",
   "execution_count": 1,
   "metadata": {
    "collapsed": true
   },
   "outputs": [],
   "source": [
    "from __future__ import division\n",
    "import numpy as np\n",
    "import sys"
   ]
  },
  {
   "cell_type": "code",
   "execution_count": 2,
   "metadata": {
    "collapsed": true
   },
   "outputs": [],
   "source": [
    "k = 10\n",
    "n = 200\n",
    "d = 2"
   ]
  },
  {
   "cell_type": "code",
   "execution_count": 3,
   "metadata": {},
   "outputs": [
    {
     "name": "stdout",
     "output_type": "stream",
     "text": [
      "[[ 6.59476825  9.47146056]\n",
      " [ 7.655011    9.5142869 ]\n",
      " [ 5.90806198  5.66544389]\n",
      " [ 7.5712928   6.14482785]\n",
      " [ 7.90994221  7.17580553]\n",
      " [ 5.13673768  5.02040451]\n",
      " [ 6.82766003  6.71988539]\n",
      " [ 5.25829271  7.34937448]\n",
      " [ 6.20171575  9.57980986]\n",
      " [ 6.39535643  7.54244146]]\n"
     ]
    }
   ],
   "source": [
    "a = np.random.uniform(5, 10, [10, 2])\n",
    "print a"
   ]
  },
  {
   "cell_type": "code",
   "execution_count": 4,
   "metadata": {
    "collapsed": true
   },
   "outputs": [],
   "source": [
    "ranges = 5*np.arange(11)\n",
    "\n",
    "ranges2 = 2*np.arange(11)\n",
    "\n",
    "x = np.array([]).astype(np.float32)\n",
    "y = np.array([])\n",
    "\n",
    "for i in range(k):\n",
    "    for _ in range(10):\n",
    "        x = np.append(x, np.random.uniform(ranges[i], ranges[i+1])).astype(np.float32)\n",
    "        x = np.append(x, np.random.uniform(ranges2[i], ranges2[i+1])).astype(np.float32)\n",
    "        \n",
    "        y = np.append(y, i)\n",
    "\n",
    "x = x.reshape(-1, d)\n",
    "\n",
    "#print x\n",
    "#print y"
   ]
  },
  {
   "cell_type": "code",
   "execution_count": 5,
   "metadata": {},
   "outputs": [
    {
     "name": "stdout",
     "output_type": "stream",
     "text": [
      "(10, 2)\n",
      "100\n",
      "2\n"
     ]
    }
   ],
   "source": [
    "#X_train = np.genfromtxt(sys.argv[1], delimiter=\",\")\n",
    "#y_train = np.genfromtxt(sys.argv[2])\n",
    "#X_test = np.genfromtxt(sys.argv[3], delimiter=\",\")\n",
    "\n",
    "X_train = x\n",
    "y_train = y\n",
    "X_test = x[np.random.choice(x.shape[0], 10, replace=False), :]\n",
    "\n",
    "print X_test.shape\n",
    "print y_train.size\n",
    "print X_train[0].size"
   ]
  },
  {
   "cell_type": "code",
   "execution_count": 6,
   "metadata": {
    "collapsed": true
   },
   "outputs": [],
   "source": [
    "def get_pi_hat(y_train):\n",
    "    pi_hat = np.array([])\n",
    "\n",
    "    for Y in range(k):\n",
    "        indicator = 0\n",
    "\n",
    "        for i in y_train:\n",
    "            if i == Y:\n",
    "                indicator += 1\n",
    "\n",
    "        pi_hat = np.append(pi_hat, indicator/n)\n",
    "        \n",
    "    return pi_hat"
   ]
  },
  {
   "cell_type": "code",
   "execution_count": 7,
   "metadata": {
    "collapsed": true
   },
   "outputs": [],
   "source": [
    "def get_mu_hat(y_train, X_train):\n",
    "\n",
    "    mu_hat = np.empty([0, d])\n",
    "\n",
    "    for Y in range(k):\n",
    "\n",
    "        indicator = 0\n",
    "        mu_add = np.zeros((1, d))\n",
    "\n",
    "        for i in range(y_train.size):\n",
    "            if y_train[i] == Y:\n",
    "                indicator += 1\n",
    "\n",
    "                mu_add += X_train[i]\n",
    "\n",
    "        mu_hat = np.append(mu_hat, mu_add/indicator, axis=0)\n",
    "    \n",
    "    return mu_hat"
   ]
  },
  {
   "cell_type": "code",
   "execution_count": 8,
   "metadata": {
    "collapsed": true
   },
   "outputs": [],
   "source": [
    "def get_sigma_hat(y_train, X_train, mu_hat):\n",
    "\n",
    "    sigma_hat = np.empty([0, d, d])\n",
    "\n",
    "    for Y in range(k):\n",
    "\n",
    "        indicator = 0\n",
    "        sigma_add = np.zeros((d, d))\n",
    "\n",
    "        for i in range(y_train.size):\n",
    "            if y_train[i] == Y:\n",
    "                indicator += 1\n",
    "\n",
    "                sigma_add += np.matmul((X_train[i]-mu_hat[Y]).reshape(2,1), np.transpose((X_train[i]-mu_hat[Y]).reshape(2,1)))\n",
    "\n",
    "        sigma_hat = np.append(sigma_hat, sigma_add.reshape(1, d, d)/indicator, axis=0)\n",
    "    \n",
    "    return sigma_hat"
   ]
  },
  {
   "cell_type": "code",
   "execution_count": 9,
   "metadata": {
    "collapsed": true
   },
   "outputs": [],
   "source": [
    "i = 3\n",
    "\n",
    "def classifier(X, pi_hat, mu_hat, sigma_hat):\n",
    "    \n",
    "    probabilities = np.array([])\n",
    "\n",
    "    for Y in range(k):\n",
    "\n",
    "        coefficient = pi_hat[Y]*np.linalg.norm(sigma_hat[Y])**(-0.5)\n",
    "\n",
    "        exp = -0.5*np.matmul(np.matmul(np.transpose((X-mu_hat[Y]).reshape(d,1)),np.linalg.matrix_power(sigma_hat[Y],-1)), \n",
    "            (X-mu_hat[Y]).reshape(d,1))\n",
    "\n",
    "        probability = coefficient*np.exp(exp)\n",
    "\n",
    "        probabilities = np.append(probabilities, probability).astype(np.float32)\n",
    "    \n",
    "    return probabilities\n",
    "\n",
    "#print classifier(X_test[i])\n",
    "#print np.argmax(classifier(X_test[i]))"
   ]
  },
  {
   "cell_type": "code",
   "execution_count": 10,
   "metadata": {},
   "outputs": [
    {
     "data": {
      "text/plain": [
       "array([[  5.80924113e-23,   3.10783138e-17,   9.99997914e-01,\n",
       "          2.10181065e-06,   0.00000000e+00,   0.00000000e+00,\n",
       "          0.00000000e+00,   0.00000000e+00,   0.00000000e+00,\n",
       "          0.00000000e+00],\n",
       "       [  0.00000000e+00,   0.00000000e+00,   4.48565771e-08,\n",
       "          9.99999821e-01,   3.67221134e-08,   1.69208279e-33,\n",
       "          8.39960720e-38,   0.00000000e+00,   0.00000000e+00,\n",
       "          0.00000000e+00],\n",
       "       [  9.99960065e-01,   3.99021010e-05,   1.26669342e-18,\n",
       "          2.15799964e-43,   0.00000000e+00,   0.00000000e+00,\n",
       "          0.00000000e+00,   0.00000000e+00,   0.00000000e+00,\n",
       "          0.00000000e+00],\n",
       "       [  0.00000000e+00,   0.00000000e+00,   0.00000000e+00,\n",
       "          2.27843907e-27,   1.29416556e-31,   3.16794671e-04,\n",
       "          9.99683261e-01,   0.00000000e+00,   0.00000000e+00,\n",
       "          0.00000000e+00],\n",
       "       [  0.00000000e+00,   0.00000000e+00,   0.00000000e+00,\n",
       "          0.00000000e+00,   0.00000000e+00,   0.00000000e+00,\n",
       "          0.00000000e+00,   0.00000000e+00,   4.08320169e-08,\n",
       "          9.99999940e-01],\n",
       "       [  0.00000000e+00,   0.00000000e+00,   7.70714155e-44,\n",
       "          1.64782352e-17,   7.31790218e-15,   9.99837995e-01,\n",
       "          1.62034019e-04,   0.00000000e+00,   0.00000000e+00,\n",
       "          0.00000000e+00],\n",
       "       [  0.00000000e+00,   0.00000000e+00,   0.00000000e+00,\n",
       "          0.00000000e+00,   0.00000000e+00,   0.00000000e+00,\n",
       "          0.00000000e+00,   0.00000000e+00,   7.90592526e-13,\n",
       "          1.00000000e+00],\n",
       "       [  0.00000000e+00,   0.00000000e+00,   0.00000000e+00,\n",
       "          0.00000000e+00,   0.00000000e+00,   0.00000000e+00,\n",
       "          0.00000000e+00,   0.00000000e+00,   8.89881311e-12,\n",
       "          1.00000000e+00],\n",
       "       [  0.00000000e+00,   0.00000000e+00,   0.00000000e+00,\n",
       "          0.00000000e+00,   0.00000000e+00,   0.00000000e+00,\n",
       "          2.23399566e-09,   9.99999464e-01,   4.97655435e-07,\n",
       "          1.49468835e-26],\n",
       "       [  9.99718726e-01,   2.81325774e-04,   1.06281222e-13,\n",
       "          3.19730469e-34,   0.00000000e+00,   0.00000000e+00,\n",
       "          0.00000000e+00,   0.00000000e+00,   0.00000000e+00,\n",
       "          0.00000000e+00]])"
      ]
     },
     "execution_count": 10,
     "metadata": {},
     "output_type": "execute_result"
    }
   ],
   "source": [
    "def pluginClassifier(X_train, y_train, X_test):    \n",
    "\n",
    "    pi_hat = get_pi_hat(y_train)\n",
    "    \n",
    "    mu_hat = get_mu_hat(y_train, X_train)\n",
    "    \n",
    "    sigma_hat = get_sigma_hat(y_train, X_train, mu_hat)\n",
    "    \n",
    "    output = np.empty([0, k])\n",
    "    \n",
    "    for i in X_test:\n",
    "        probabilities = classifier(i, pi_hat, mu_hat, sigma_hat)\n",
    "        \n",
    "        probabilities = (1/np.sum(probabilities))*probabilities\n",
    "        \n",
    "        output = np.append(output, probabilities.reshape(1,-1), axis=0)\n",
    "    \n",
    "    return output\n",
    "\n",
    "pluginClassifier(X_train, y_train, X_test)"
   ]
  },
  {
   "cell_type": "code",
   "execution_count": 15,
   "metadata": {},
   "outputs": [
    {
     "name": "stdout",
     "output_type": "stream",
     "text": [
      " (10, 10)\n"
     ]
    }
   ],
   "source": [
    "final_outputs = pluginClassifier(X_train, y_train, X_test)\n",
    "\n",
    "print final_outputs.shape\n",
    "\n",
    "np.savetxt(\"probs_test.csv\", final_outputs, delimiter=\",\")"
   ]
  },
  {
   "cell_type": "code",
   "execution_count": 12,
   "metadata": {},
   "outputs": [
    {
     "name": "stdout",
     "output_type": "stream",
     "text": [
      "1.00000001565\n",
      "[  0.00000000e+00   0.00000000e+00   4.62116337e-01   1.05090533e-06\n",
      "   0.00000000e+00   0.00000000e+00   0.00000000e+00   0.00000000e+00\n",
      "   0.00000000e+00   0.00000000e+00] 0.462117387836\n",
      "[  0.00000000e+00   0.00000000e+00   2.24282888e-08   4.62117087e-01\n",
      "   1.83610565e-08   0.00000000e+00   0.00000000e+00   0.00000000e+00\n",
      "   0.00000000e+00   0.00000000e+00] 0.462117127735\n",
      "[  4.62101454e-01   1.99510505e-05   0.00000000e+00   0.00000000e+00\n",
      "   0.00000000e+00   0.00000000e+00   0.00000000e+00   0.00000000e+00\n",
      "   0.00000000e+00   0.00000000e+00] 0.462121404726\n",
      "[  0.00000000e+00   0.00000000e+00   0.00000000e+00   0.00000000e+00\n",
      "   0.00000000e+00   1.58397334e-04   4.61992599e-01   0.00000000e+00\n",
      "   0.00000000e+00   0.00000000e+00] 0.462150996113\n",
      "[  0.00000000e+00   0.00000000e+00   0.00000000e+00   0.00000000e+00\n",
      "   0.00000000e+00   0.00000000e+00   0.00000000e+00   0.00000000e+00\n",
      "   2.04160084e-08   4.62117134e-01] 0.462117154238\n",
      "[  0.00000000e+00   0.00000000e+00   0.00000000e+00   0.00000000e+00\n",
      "   3.77475828e-15   4.62053450e-01   8.10170093e-05   0.00000000e+00\n",
      "   0.00000000e+00   0.00000000e+00] 0.462134467485\n",
      "[  0.00000000e+00   0.00000000e+00   0.00000000e+00   0.00000000e+00\n",
      "   0.00000000e+00   0.00000000e+00   0.00000000e+00   0.00000000e+00\n",
      "   3.95461441e-13   4.62117157e-01] 0.46211715726\n",
      "[  0.00000000e+00   0.00000000e+00   0.00000000e+00   0.00000000e+00\n",
      "   0.00000000e+00   0.00000000e+00   0.00000000e+00   0.00000000e+00\n",
      "   4.44955184e-12   4.62117157e-01] 0.462117157264\n",
      "[  0.00000000e+00   0.00000000e+00   0.00000000e+00   0.00000000e+00\n",
      "   0.00000000e+00   0.00000000e+00   1.11699783e-09   4.62116946e-01\n",
      "   2.48827718e-07   0.00000000e+00] 0.462117196263\n",
      "[  4.62006546e-01   1.40662886e-04   5.30686606e-14   0.00000000e+00\n",
      "   0.00000000e+00   0.00000000e+00   0.00000000e+00   0.00000000e+00\n",
      "   0.00000000e+00   0.00000000e+00] 0.462147209183\n"
     ]
    }
   ],
   "source": [
    "print np.sum(final_outputs[0])\n",
    "\n",
    "for i in final_outputs:\n",
    "    idk = 2*(np.exp(i)/(1+np.exp(i))-0.5)\n",
    "\n",
    "    print idk, np.sum(idk)"
   ]
  },
  {
   "cell_type": "code",
   "execution_count": null,
   "metadata": {
    "collapsed": true
   },
   "outputs": [],
   "source": []
  }
 ],
 "metadata": {
  "kernelspec": {
   "display_name": "Python 2",
   "language": "python",
   "name": "python2"
  },
  "language_info": {
   "codemirror_mode": {
    "name": "ipython",
    "version": 2
   },
   "file_extension": ".py",
   "mimetype": "text/x-python",
   "name": "python",
   "nbconvert_exporter": "python",
   "pygments_lexer": "ipython2",
   "version": "2.7.12"
  }
 },
 "nbformat": 4,
 "nbformat_minor": 2
}
