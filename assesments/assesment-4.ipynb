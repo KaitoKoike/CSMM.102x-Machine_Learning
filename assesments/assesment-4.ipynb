{
 "cells": [
  {
   "cell_type": "code",
   "execution_count": 1,
   "metadata": {
    "collapsed": true
   },
   "outputs": [],
   "source": [
    "import numpy as np\n",
    "import sys"
   ]
  },
  {
   "cell_type": "code",
   "execution_count": 2,
   "metadata": {
    "collapsed": true
   },
   "outputs": [],
   "source": [
    "lam = 2\n",
    "sigma2 = 0.1\n",
    "d = 5\n",
    "iterations = 50"
   ]
  },
  {
   "cell_type": "code",
   "execution_count": 3,
   "metadata": {},
   "outputs": [],
   "source": [
    "users = 300\n",
    "objects = 500\n",
    "\n",
    "def make_data():\n",
    "    \n",
    "    data = np.empty([0,3])\n",
    "    \n",
    "    for i in range(users):\n",
    "        obs = np.random.choice(objects,size=np.random.randint(1, 100), replace=False)\n",
    "        for j in obs:\n",
    "            data = np.append(data, np.array([[i, j, np.random.randint(1, 6)]]), axis=0)\n",
    "            \n",
    "    return data"
   ]
  },
  {
   "cell_type": "code",
   "execution_count": 4,
   "metadata": {},
   "outputs": [
    {
     "name": "stdout",
     "output_type": "stream",
     "text": [
      "300 500\n"
     ]
    }
   ],
   "source": [
    "#train_data = np.genfromtxt(sys.argv[1], delimiter = \",\")\n",
    "train_data = make_data()\n",
    "\n",
    "N1 = int(np.max(np.unique(train_data[:,0]))+1)\n",
    "N2 = int(np.max(np.unique(train_data[:,1]))+1)\n",
    "\n",
    "print N1, N2"
   ]
  },
  {
   "cell_type": "code",
   "execution_count": 23,
   "metadata": {},
   "outputs": [],
   "source": [
    "def PMF(train_data):\n",
    "    \n",
    "    v = np.empty([0, d])\n",
    "    \n",
    "    for j in range(N2):\n",
    "        v = np.append(v, \n",
    "                      np.random.multivariate_normal(np.zeros([d]), \n",
    "                                                    lam**(-1)*np.eye(d)).reshape(1,-1), \n",
    "                      axis=0)\n",
    "        \n",
    "    print 'created vs'\n",
    "\n",
    "    Us = np.empty([0,N1,d])\n",
    "    Vs = np.empty([0,N2,d])\n",
    "    obj_funcs = np.empty([0,1])\n",
    "\n",
    "    for t in range(iterations):\n",
    "        \n",
    "        u = np.empty([N1, d])\n",
    "\n",
    "        for i in range(N1):\n",
    "            \n",
    "            v_sum = np.zeros([d,d])\n",
    "            mv_sum = np.zeros([d])\n",
    "            \n",
    "            for rating_index in np.where(train_data[:,0]==i)[0]:\n",
    "                j = int(train_data[rating_index, 1])\n",
    "                v_sum += np.matmul(v[j].reshape(-1,1), v[j].reshape(1,-1)).reshape(d,d)\n",
    "                    \n",
    "                row = np.intersect1d(np.where(train_data[:,0]==i), np.where(train_data[:,1]==j))\n",
    "                mv_sum += (train_data[row, 2]*v[j])\n",
    "            \n",
    "            u[i] = np.matmul(np.linalg.matrix_power(lam*sigma2*np.eye(d) + v_sum, -1),mv_sum.reshape(-1,1)).reshape(1,-1)\n",
    "            \n",
    "        print 'updated us'\n",
    "        \n",
    "        for j in range(N2):\n",
    "            \n",
    "            u_sum = np.zeros([d,d])\n",
    "            mu_sum = np.zeros([d])\n",
    "            \n",
    "            for rating_index in np.where(train_data[:,1]==j)[0]:\n",
    "                i = int(train_data[rating_index, 0])\n",
    "                u_sum += np.matmul(u[i].reshape(-1,1), u[i].reshape(1,-1)).reshape(d,d)\n",
    "                    \n",
    "                row = np.intersect1d(np.where(train_data[:,0]==i), np.where(train_data[:,1]==j))                        \n",
    "                mu_sum += (train_data[row, 2]*u[i])\n",
    "            \n",
    "            v[j] = np.matmul(np.linalg.matrix_power(lam*sigma2*np.eye(d) + u_sum, -1),mu_sum.reshape(-1,1)).reshape(1,-1)\n",
    "    \n",
    "        print 'updated vs'\n",
    "    \n",
    "        err_sum = 0\n",
    "        U_sum = 0\n",
    "        V_sum = 0\n",
    "\n",
    "        for i in range(N1):\n",
    "            U_sum += lam/2*np.linalg.norm(u[i])**2\n",
    "            \n",
    "        for j in range(N2):\n",
    "            V_sum += lam/2*np.linalg.norm(v[i])**2\n",
    "\n",
    "        for rating in train_data:         \n",
    "            err_sum += 1/(2*sigma2)*(rating[2]-np.matmul((u[int(rating[0])]).reshape(1,-1),\n",
    "                                                         (v[int(rating[1])]).reshape(-1,1)))**2\n",
    "        \n",
    "        obj_func = -err_sum-U_sum-V_sum\n",
    "        \n",
    "        print 'done objective function'\n",
    "        \n",
    "        Us = np.append(Us, u.reshape(1,N1,d), axis=0)\n",
    "        Vs = np.append(Vs, v.reshape(1,N2,d), axis=0)\n",
    "        obj_funcs = np.append(obj_funcs, obj_func.reshape(1,1), axis=0)\n",
    "        print 'iteration', t, 'done'\n",
    "        \n",
    "    return (obj_funcs, Us, Vs)"
   ]
  },
  {
   "cell_type": "code",
   "execution_count": 22,
   "metadata": {},
   "outputs": [
    {
     "name": "stdout",
     "output_type": "stream",
     "text": [
      "created vs\n",
      "updated us\n",
      "updated vs\n",
      "done objective function\n",
      "iteration 0 done\n",
      "updated us\n",
      "updated vs\n"
     ]
    },
    {
     "ename": "KeyboardInterrupt",
     "evalue": "",
     "output_type": "error",
     "traceback": [
      "\u001b[0;31m---------------------------------------------------------------------------\u001b[0m",
      "\u001b[0;31mKeyboardInterrupt\u001b[0m                         Traceback (most recent call last)",
      "\u001b[0;32m<ipython-input-22-20ef61c4ec1f>\u001b[0m in \u001b[0;36m<module>\u001b[0;34m()\u001b[0m\n\u001b[0;32m----> 1\u001b[0;31m \u001b[0mL\u001b[0m\u001b[0;34m,\u001b[0m \u001b[0mU_matrices\u001b[0m\u001b[0;34m,\u001b[0m \u001b[0mV_matrices\u001b[0m \u001b[0;34m=\u001b[0m \u001b[0mPMF\u001b[0m\u001b[0;34m(\u001b[0m\u001b[0mtrain_data\u001b[0m\u001b[0;34m)\u001b[0m\u001b[0;34m\u001b[0m\u001b[0m\n\u001b[0m\u001b[1;32m      2\u001b[0m \u001b[0;34m\u001b[0m\u001b[0m\n\u001b[1;32m      3\u001b[0m \u001b[0mnp\u001b[0m\u001b[0;34m.\u001b[0m\u001b[0msavetxt\u001b[0m\u001b[0;34m(\u001b[0m\u001b[0;34m\"objective.csv\"\u001b[0m\u001b[0;34m,\u001b[0m \u001b[0mL\u001b[0m\u001b[0;34m,\u001b[0m \u001b[0mdelimiter\u001b[0m\u001b[0;34m=\u001b[0m\u001b[0;34m\",\"\u001b[0m\u001b[0;34m)\u001b[0m\u001b[0;34m\u001b[0m\u001b[0m\n\u001b[1;32m      4\u001b[0m \u001b[0;34m\u001b[0m\u001b[0m\n\u001b[1;32m      5\u001b[0m \u001b[0mnp\u001b[0m\u001b[0;34m.\u001b[0m\u001b[0msavetxt\u001b[0m\u001b[0;34m(\u001b[0m\u001b[0;34m\"U-10.csv\"\u001b[0m\u001b[0;34m,\u001b[0m \u001b[0mU_matrices\u001b[0m\u001b[0;34m[\u001b[0m\u001b[0;36m9\u001b[0m\u001b[0;34m]\u001b[0m\u001b[0;34m,\u001b[0m \u001b[0mdelimiter\u001b[0m\u001b[0;34m=\u001b[0m\u001b[0;34m\",\"\u001b[0m\u001b[0;34m)\u001b[0m\u001b[0;34m\u001b[0m\u001b[0m\n",
      "\u001b[0;32m<ipython-input-21-a0ace3094dae>\u001b[0m in \u001b[0;36mPMF\u001b[0;34m(train_data)\u001b[0m\n\u001b[1;32m     62\u001b[0m \u001b[0;34m\u001b[0m\u001b[0m\n\u001b[1;32m     63\u001b[0m         \u001b[0;32mfor\u001b[0m \u001b[0mrating\u001b[0m \u001b[0;32min\u001b[0m \u001b[0mtrain_data\u001b[0m\u001b[0;34m:\u001b[0m\u001b[0;34m\u001b[0m\u001b[0m\n\u001b[0;32m---> 64\u001b[0;31m             err_sum += 1/(2*sigma2)*(rating[2]-np.matmul((u[int(rating[0])]).reshape(1,-1),\n\u001b[0m\u001b[1;32m     65\u001b[0m                                                          (v[int(rating[1])]).reshape(-1,1)))**2\n\u001b[1;32m     66\u001b[0m \u001b[0;34m\u001b[0m\u001b[0m\n",
      "\u001b[0;31mKeyboardInterrupt\u001b[0m: "
     ]
    }
   ],
   "source": [
    "L, U_matrices, V_matrices = PMF(train_data)\n",
    "\n",
    "np.savetxt(\"objective.csv\", L, delimiter=\",\")\n",
    "\n",
    "np.savetxt(\"U-10.csv\", U_matrices[9], delimiter=\",\")\n",
    "np.savetxt(\"U-25.csv\", U_matrices[24], delimiter=\",\")\n",
    "np.savetxt(\"U-50.csv\", U_matrices[49], delimiter=\",\")\n",
    "\n",
    "np.savetxt(\"V-10.csv\", V_matrices[9], delimiter=\",\")\n",
    "np.savetxt(\"V-25.csv\", V_matrices[24], delimiter=\",\")\n",
    "np.savetxt(\"V-50.csv\", V_matrices[49], delimiter=\",\")"
   ]
  },
  {
   "cell_type": "code",
   "execution_count": 8,
   "metadata": {},
   "outputs": [
    {
     "name": "stdout",
     "output_type": "stream",
     "text": [
      "(array([ 2,  9, 13, 16, 19, 28, 31]),) (array([ 7, 28]),)\n",
      "[28]\n"
     ]
    }
   ],
   "source": [
    "a = np.random.randint(5, size=99).reshape(-1,3)\n",
    "\n",
    "#print a\n",
    "b= np.where(a[:,0]==2)\n",
    "c= np.where(a[:,1]==3)\n",
    "\n",
    "print b, c\n",
    "\n",
    "print np.intersect1d(b, c)"
   ]
  },
  {
   "cell_type": "code",
   "execution_count": null,
   "metadata": {
    "collapsed": true
   },
   "outputs": [],
   "source": [
    "def PMF(train_data):\n",
    "    \n",
    "    v = np.empty([0, d])\n",
    "    \n",
    "    for j in range(N2):\n",
    "        v = np.append(v, \n",
    "                      np.random.multivariate_normal(np.zeros([d]), \n",
    "                                                    lam**(-1)*np.eye(d)).reshape(1,-1), \n",
    "                      axis=0)\n",
    "        \n",
    "    print 'created vs'\n",
    "\n",
    "    Us = np.empty([0,N1,d])\n",
    "    Vs = np.empty([0,N2,d])\n",
    "    obj_funcs = np.empty([0,1])\n",
    "\n",
    "    for t in range(iterations):\n",
    "        \n",
    "        u = np.empty([N1, d])\n",
    "\n",
    "        for i in range(N1):\n",
    "            \n",
    "            v_sum = np.empty([0,d,d])\n",
    "            mv_sum = np.empty([0,d])\n",
    "            \n",
    "            \n",
    "            for rating in train_data:\n",
    "                if rating[0] == i:\n",
    "                    j = int(rating[1])\n",
    "                    v_sum = np.append(v_sum, np.matmul(v[j].reshape(-1,1), v[j].reshape(1,-1)).reshape(1,d,d), axis=0)                        \n",
    "                    row = np.intersect1d(np.where(train_data[:,0]==i), np.where(train_data[:,1]==j))\n",
    "                    mv_sum = np.append(mv_sum, (train_data[row, 2]*v[j]).reshape(1,-1), axis=0)\n",
    "\n",
    "                        \n",
    "            vvt = np.sum(v_sum, axis=0)\n",
    "            mv = np.sum(mv_sum, axis=0).reshape(-1,1)\n",
    "            \n",
    "            u[i] = np.matmul(np.linalg.matrix_power(lam*sigma2*np.eye(d) + vvt, -1),mv).reshape(1,-1)\n",
    "            \n",
    "        print 'updated us'\n",
    "        \n",
    "        for j in range(N2):\n",
    "            \n",
    "            u_sum = np.empty([0,d,d])\n",
    "            mu_sum = np.empty([0,d])\n",
    "            \n",
    "            for rating in train_data:\n",
    "                if rating[1] == j:\n",
    "                    i = int(rating[0])\n",
    "                    u_sum = np.append(u_sum, np.matmul(u[i].reshape(-1,1), u[i].reshape(1,-1)).reshape(1,d,d), axis=0)\n",
    "                    row = np.intersect1d(np.where(train_data[:,0]==i), np.where(train_data[:,1]==j))                        \n",
    "                    mu_sum = np.append(mu_sum, (train_data[row, 2]*u[i]).reshape(1,-1), axis=0)\n",
    "                        \n",
    "            uut = np.sum(u_sum, axis=0)\n",
    "            mu = np.sum(mu_sum, axis=0).reshape(-1,1)\n",
    "            \n",
    "            v[j] = np.matmul(np.linalg.matrix_power(lam*sigma2*np.eye(d) + uut, -1),mu).reshape(1,-1)\n",
    "    \n",
    "        print 'updated vs'\n",
    "    \n",
    "        err_sum = 0\n",
    "        U_sum = 0\n",
    "        V_sum = 0\n",
    "\n",
    "        for i in range(N1):\n",
    "            U_sum += lam/2*np.linalg.norm(u[i])**2\n",
    "            \n",
    "        for j in range(N2):\n",
    "            V_sum += lam/2*np.linalg.norm(u[i])**2\n",
    "\n",
    "        for rating in train_data:\n",
    "            i = int(rating[0])\n",
    "            j = int(rating[1])\n",
    "            row = np.intersect1d(np.where(train_data[:,0]==i), np.where(train_data[:,1]==j))\n",
    "            err_sum += 1/(2*sigma2)*(train_data[row,2]-np.matmul(np.transpose(u[i]),v[j]))**2\n",
    "    \n",
    "        err = np.sum(err_sum, axis=0)\n",
    "        \n",
    "        obj_func = -err-U_sum-V_sum\n",
    "        \n",
    "        print 'done objective function'\n",
    "        \n",
    "        Us = np.append(Us, u.reshape(1,N1,d), axis=0)\n",
    "        Vs = np.append(Vs, v.reshape(1,N2,d), axis=0)\n",
    "        obj_funcs = np.append(obj_funcs, obj_func.reshape(1,1), axis=0)\n",
    "        print 'iteration', t, 'done'\n",
    "        \n",
    "    return (obj_funcs, Us, Vs)"
   ]
  },
  {
   "cell_type": "code",
   "execution_count": 5,
   "metadata": {},
   "outputs": [],
   "source": [
    "#M = np.zeros([N1, N2])\n",
    "\n",
    "#for i in train_data:\n",
    "#    M[int(i[0]),int(i[1])] = i[2]"
   ]
  },
  {
   "cell_type": "code",
   "execution_count": 16,
   "metadata": {},
   "outputs": [
    {
     "name": "stdout",
     "output_type": "stream",
     "text": [
      "[      0.   50000.  100000.  150000.  200000.]\n"
     ]
    }
   ],
   "source": [
    "add = np.empty([0,5])\n",
    "for i in range(50000):\n",
    "    add = np.append(add, np.arange(5).reshape(1,-1),axis=0)\n",
    "    \n",
    "print np.sum(add, axis=0)"
   ]
  },
  {
   "cell_type": "code",
   "execution_count": 18,
   "metadata": {},
   "outputs": [
    {
     "name": "stdout",
     "output_type": "stream",
     "text": [
      "[[      0.   50000.  100000.  150000.  200000.]]\n"
     ]
    }
   ],
   "source": [
    "add = np.zeros([1,5])\n",
    "for i in range(50000):\n",
    "    add += np.arange(5).reshape(1,-1)\n",
    "    \n",
    "print add"
   ]
  },
  {
   "cell_type": "code",
   "execution_count": null,
   "metadata": {
    "collapsed": true
   },
   "outputs": [],
   "source": []
  }
 ],
 "metadata": {
  "kernelspec": {
   "display_name": "Python 2",
   "language": "python",
   "name": "python2"
  },
  "language_info": {
   "codemirror_mode": {
    "name": "ipython",
    "version": 2
   },
   "file_extension": ".py",
   "mimetype": "text/x-python",
   "name": "python",
   "nbconvert_exporter": "python",
   "pygments_lexer": "ipython2",
   "version": "2.7.12"
  }
 },
 "nbformat": 4,
 "nbformat_minor": 2
}
