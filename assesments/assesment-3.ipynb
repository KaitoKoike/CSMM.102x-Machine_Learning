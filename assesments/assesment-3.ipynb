{
 "cells": [
  {
   "cell_type": "code",
   "execution_count": 1,
   "metadata": {
    "collapsed": true
   },
   "outputs": [],
   "source": [
    "import numpy as np\n",
    "import sys\n",
    "from scipy.stats import multivariate_normal as mvnorm"
   ]
  },
  {
   "cell_type": "code",
   "execution_count": 2,
   "metadata": {
    "collapsed": true
   },
   "outputs": [],
   "source": [
    "datapoints = 2000\n",
    "dimensions = 8\n",
    "clusters = 5"
   ]
  },
  {
   "cell_type": "code",
   "execution_count": 3,
   "metadata": {
    "collapsed": true
   },
   "outputs": [],
   "source": [
    "def create_data():\n",
    "    \n",
    "    x = np.empty([0, dimensions])\n",
    "    \n",
    "    for i in range(datapoints):\n",
    "        \n",
    "        mean = np.repeat((i%clusters), dimensions)\n",
    "\n",
    "        #print np.random.multivariate_normal(mean=mean, cov=np.identity(3), size=1).reshape(1,3)\n",
    "        \n",
    "        x = np.append(x, np.random.multivariate_normal(mean=mean, cov=np.identity(dimensions), size=1).reshape(1,dimensions), axis=0)\n",
    "        \n",
    "    return x"
   ]
  },
  {
   "cell_type": "code",
   "execution_count": 4,
   "metadata": {},
   "outputs": [
    {
     "name": "stdout",
     "output_type": "stream",
     "text": [
      "2000 8 5\n"
     ]
    }
   ],
   "source": [
    "#X = np.genfromtxt(sys.argv[1], delimiter=\",\")\n",
    "\n",
    "X = create_data()\n",
    "\n",
    "n = X[:,0].size\n",
    "\n",
    "d = X[0,:].size\n",
    "\n",
    "K = 5\n",
    "\n",
    "iterations = 2\n",
    "\n",
    "print n, d, K"
   ]
  },
  {
   "cell_type": "code",
   "execution_count": 5,
   "metadata": {},
   "outputs": [],
   "source": [
    "def k_means():\n",
    "        \n",
    "    for i in range(n):\n",
    "            \n",
    "        cs = np.array([])\n",
    "        \n",
    "        for k in range(K):\n",
    "                \n",
    "            cs = np.append(cs, np.linalg.norm(X[i] - mu[k])**2)\n",
    "                \n",
    "        c[i] = np.argmin(cs)\n",
    "            \n",
    "            \n",
    "    for k in range(K):\n",
    "        \n",
    "        nk = np.sum(c == k).astype(np.float32)\n",
    "        \n",
    "        print nk\n",
    "            \n",
    "        mus = np.empty([0, d])\n",
    "          \n",
    "        for i in range(n):\n",
    "                \n",
    "            if c[i] == k:\n",
    "                mus = np.append(mus, X[i].reshape(1,d), axis=0)\n",
    "                \n",
    "        if nk > 0:\n",
    "            mu[k] = (1.0/nk)*np.sum(mus, axis=0)\n",
    "\n",
    "            \n",
    "    np.savetxt(\"centroids-\" + str(t+1) + \".csv\", mu, delimiter=\",\")"
   ]
  },
  {
   "cell_type": "code",
   "execution_count": 6,
   "metadata": {},
   "outputs": [
    {
     "name": "stdout",
     "output_type": "stream",
     "text": [
      "118.0\n",
      "128.0\n",
      "873.0\n",
      "697.0\n",
      "184.0\n",
      "None\n",
      "377.0\n",
      "170.0\n",
      "806.0\n",
      "387.0\n",
      "260.0\n",
      "None\n"
     ]
    }
   ],
   "source": [
    "mu = np.random.rand(K, d)\n",
    "\n",
    "c = np.zeros(n)\n",
    "    \n",
    "for t in range(iterations):\n",
    "    print k_means()"
   ]
  },
  {
   "cell_type": "code",
   "execution_count": 7,
   "metadata": {},
   "outputs": [],
   "source": [
    "def phi(i, k, pi, xi):\n",
    "        \n",
    "    phi_total = np.array([])\n",
    "\n",
    "    phi = np.array([])\n",
    "\n",
    "    for j in range(K):\n",
    "\n",
    "        phi_total = np.append(phi_total, pi[j]*mvnorm.pdf(x=xi, mean=mu[j], cov=Sigma[j]))\n",
    "            \n",
    "    return (pi[k]*mvnorm.pdf(x=X[i], mean=mu[k], cov=Sigma[k]))/np.sum(phi_total)"
   ]
  },
  {
   "cell_type": "code",
   "execution_count": 8,
   "metadata": {},
   "outputs": [],
   "source": [
    "def gmm():\n",
    "\n",
    "    for k in range(K):\n",
    "            \n",
    "        phi_array = np.array([])\n",
    "        for i in range(n):\n",
    "            phi_array = np.append(phi_array, phi(i, k, pi, X[i]))\n",
    "\n",
    "            \n",
    "        nk = np.array([[0.0]])\n",
    "        for i in range(n):\n",
    "            nk += phi_array[i]  \n",
    "            \n",
    "        pi[k] = nk/n\n",
    "            \n",
    "        mean_sum = np.zeros([1, d])\n",
    "        for i in range(n):\n",
    "            mean_sum += (phi_array[i]*X[i]).reshape(1,d)\n",
    "        mu[k] = (1.0/nk)*mean_sum\n",
    "                \n",
    "        cov_sum = np.zeros([1, d, d])\n",
    "        for i in range(n):\n",
    "            cov_sum += (phi_array[i]*np.matmul((X[i]-mu[k]).reshape(-1,1), \n",
    "                                                     (X[i]-mu[k]).reshape(1,-1))).reshape(1,d,d)\n",
    "            \n",
    "            \n",
    "        Sigma[k] = (1.0/nk)*cov_sum\n",
    "            \n",
    "        np.savetxt(\"Sigma-\" + str(k+1) + '-' + str(t+1) + \".csv\", Sigma[k], delimiter=\",\")\n",
    "\n",
    "    np.savetxt(\"pi-\" + str(t+1) + \".csv\", pi, delimiter=\",\")\n",
    "    np.savetxt(\"mu-\" + str(t+1) + \".csv\", mu, delimiter=\",\")"
   ]
  },
  {
   "cell_type": "code",
   "execution_count": 9,
   "metadata": {},
   "outputs": [
    {
     "name": "stdout",
     "output_type": "stream",
     "text": [
      "done\n"
     ]
    }
   ],
   "source": [
    "pi = np.repeat((1.0/K), 5).reshape(-1, 1)\n",
    "\n",
    "mu = np.empty([0, d])\n",
    "    \n",
    "for i in range(K):\n",
    "    mu = np.append(mu, np.random.rand(1, d), axis=0)\n",
    "    \n",
    "Sigma = np.empty([0, d, d])\n",
    "\n",
    "for i in range(K):\n",
    "    Sigma = np.append(Sigma, np.identity(d).reshape(1, d, d), axis=0)\n",
    "\n",
    "for t in range(iterations):\n",
    "    gmm()\n",
    "    \n",
    "print 'done'"
   ]
  },
  {
   "cell_type": "code",
   "execution_count": null,
   "metadata": {
    "collapsed": true
   },
   "outputs": [],
   "source": []
  },
  {
   "cell_type": "code",
   "execution_count": null,
   "metadata": {
    "collapsed": true
   },
   "outputs": [],
   "source": []
  },
  {
   "cell_type": "code",
   "execution_count": null,
   "metadata": {
    "collapsed": true
   },
   "outputs": [],
   "source": []
  },
  {
   "cell_type": "code",
   "execution_count": null,
   "metadata": {
    "collapsed": true
   },
   "outputs": [],
   "source": []
  },
  {
   "cell_type": "code",
   "execution_count": null,
   "metadata": {
    "collapsed": true
   },
   "outputs": [],
   "source": []
  },
  {
   "cell_type": "code",
   "execution_count": 85,
   "metadata": {},
   "outputs": [
    {
     "name": "stdout",
     "output_type": "stream",
     "text": [
      "0.039788735773\n",
      "[[ 0.03978874]]\n"
     ]
    }
   ],
   "source": [
    "mean = np.array([[0],[0]]).reshape(-1)\n",
    "\n",
    "cov = np.array([[4,0],[0,4]])\n",
    "\n",
    "x = np.array([[0, 0]])\n",
    "\n",
    "print mvnorm.pdf(x=x, mean=mean, cov=cov)\n",
    "\n",
    "print my_mvnorm(x, mean, cov)"
   ]
  },
  {
   "cell_type": "code",
   "execution_count": 27,
   "metadata": {},
   "outputs": [
    {
     "name": "stdout",
     "output_type": "stream",
     "text": [
      "[[ 2.  0.  0.]\n",
      " [ 0.  2.  0.]\n",
      " [ 0.  0.  2.]]\n"
     ]
    }
   ],
   "source": [
    "a = np.append(np.identity(d).reshape(1,d,d), np.identity(d).reshape(1,d,d), axis=0)\n",
    "\n",
    "print np.sum(a, axis=0)"
   ]
  },
  {
   "cell_type": "code",
   "execution_count": 5,
   "metadata": {},
   "outputs": [],
   "source": [
    "def my_mvnorm(x, mu, Sigma):\n",
    "    \n",
    "    x = x.reshape(-1,1)\n",
    "    \n",
    "    mu = mu.reshape(-1,1)\n",
    "    \n",
    "    p = 1/(np.sqrt(np.linalg.det(2*np.pi*Sigma)))\n",
    "    \n",
    "    q = np.exp(-0.5*np.matmul(np.matmul(np.transpose(x-mu),np.linalg.matrix_power(Sigma, -1)),(x-mu)))\n",
    "    \n",
    "    return p*q\n"
   ]
  },
  {
   "cell_type": "code",
   "execution_count": null,
   "metadata": {
    "collapsed": true
   },
   "outputs": [],
   "source": [
    "np.savetxt(\"centroids-\" + str(iteration) + \".csv\", , delimiter=\"\\n\")\n",
    "np.savetxt(\"pi-\" + str(iteration) + \".csv\", , delimiter=\"\\n\")\n",
    "np.savetxt(\"mu-\" + str(iteration) + \".csv\", , delimiter=\"\\n\")\n",
    "np.savetxt(\"Sigma-\" + str(cluster) + str(iteration) + \".csv\", , delimiter=\"\\n\")"
   ]
  },
  {
   "cell_type": "code",
   "execution_count": 6,
   "metadata": {
    "collapsed": true
   },
   "outputs": [],
   "source": [
    "def mvg(x, mu, Sigma):\n",
    "    \n",
    "    np.exp(-0.5*np.transpose(x-mu)*np.linalg.matrix_power(Sigma, -1)*(x-mu))/np.sqrt"
   ]
  },
  {
   "cell_type": "code",
   "execution_count": 64,
   "metadata": {
    "collapsed": true
   },
   "outputs": [],
   "source": [
    "def Sum(ind_val, shape, n, axis):\n",
    "    \n",
    "    array = np.empty(shape)\n",
    "\n",
    "    for i2 in range(n):\n",
    "                \n",
    "        array = np.append(array, ind_val)\n",
    "\n",
    "    return np.sum(array, axis=axis)"
   ]
  },
  {
   "cell_type": "code",
   "execution_count": null,
   "metadata": {
    "collapsed": true
   },
   "outputs": [],
   "source": [
    "def gmm():\n",
    "\n",
    "    for k in range(K):\n",
    "            \n",
    "        phi_array = np.array([])\n",
    "        for i in range(n):\n",
    "            phi_array = np.append(phi_array, phi(i, k, pi, X[i]))\n",
    "            \n",
    "        #nk_sum = np.array([])\n",
    "        #for i in range(n):\n",
    "        #    nk_sum = np.append(nk_sum, phi(i, k, pi, X[i]))\n",
    "        #nk = np.sum(nk_sum)\n",
    "\n",
    "        #print nk\n",
    "            \n",
    "        nk = np.array([[0.0]])\n",
    "        for i in range(n):\n",
    "            nk += phi_array[i]  \n",
    "        print nk\n",
    "            \n",
    "        pi[k] = nk/n\n",
    "\n",
    "            \n",
    "        #mean_sum = np.empty([0, d])\n",
    "        #for i in range(n):\n",
    "        #    mean_sum = np.append(mean_sum, (phi(i, k, pi, X[i])*X[i]).reshape(1,d), axis=0)\n",
    "        #mu[k] = (1.0/nk)*np.sum(mean_sum, axis=0)\n",
    "            \n",
    "        mean_sum = np.zeros([1, d])\n",
    "        for i in range(n):\n",
    "            mean_sum += (phi_array[i]*X[i]).reshape(1,d)\n",
    "        mu[k] = (1.0/nk)*mean_sum\n",
    "            \n",
    "            \n",
    "        #cov_sum = np.empty([0, d, d])\n",
    "        #for i in range(n):\n",
    "        #    cov_sum = np.append(cov_sum, (phi(i,k, \n",
    "        #                                      pi, X[i])*np.matmul((X[i]-mu[k]).reshape(-1,1), \n",
    "        #                                           (X[i]-mu[k]).reshape(1,-1))).reshape(1,d,d), axis=0)\n",
    "            \n",
    "            \n",
    "        #Sigma[k] = (1.0/nk)*np.sum(cov_sum, axis=0)\n",
    "            \n",
    "            \n",
    "        cov_sum = np.zeros([1, d, d])\n",
    "        for i in range(n):\n",
    "            cov_sum += (phi_array[i]*np.matmul((X[i]-mu[k]).reshape(-1,1), \n",
    "                                                     (X[i]-mu[k]).reshape(1,-1))).reshape(1,d,d)\n",
    "            \n",
    "            \n",
    "        Sigma[k] = (1.0/nk)*cov_sum\n",
    "            \n",
    "        np.savetxt(\"Sigma-\" + str(k+1) + '-' + str(t+1) + \".csv\", Sigma[k], delimiter=\",\")\n",
    "\n",
    "    np.savetxt(\"pi-\" + str(t+1) + \".csv\", pi, delimiter=\",\")\n",
    "    np.savetxt(\"mu-\" + str(t+1) + \".csv\", mu, delimiter=\",\")"
   ]
  }
 ],
 "metadata": {
  "kernelspec": {
   "display_name": "Python 2",
   "language": "python",
   "name": "python2"
  },
  "language_info": {
   "codemirror_mode": {
    "name": "ipython",
    "version": 2
   },
   "file_extension": ".py",
   "mimetype": "text/x-python",
   "name": "python",
   "nbconvert_exporter": "python",
   "pygments_lexer": "ipython2",
   "version": "2.7.12"
  }
 },
 "nbformat": 4,
 "nbformat_minor": 2
}
